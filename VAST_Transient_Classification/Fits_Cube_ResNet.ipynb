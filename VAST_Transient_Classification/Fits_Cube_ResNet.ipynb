{
 "cells": [
  {
   "cell_type": "markdown",
   "id": "0b944c67-f33e-4c6f-9c80-1a672db101da",
   "metadata": {},
   "source": [
    "# ResNet50 (A Brief Introduction)"
   ]
  },
  {
   "cell_type": "markdown",
   "id": "1ffac4e9-f9af-43c9-b690-d1f2a3b7ab97",
   "metadata": {},
   "source": [
    "ResNet50 is a convolutional neural network architecture with 50 layers. It is particularly powerful due to the presence of residual connections in its architecture which allows data from one layer to reach later layers by skipping intermediate layers. This eliminates the issue of vanishing gradients which is an issue that prevents a network from learning. This is because the gradient becomes extremely small during backpropagation so the network's weights no longer change.\n",
    "\n",
    "__The information on ResNet50 was obtained from:__\n",
    "Kundu N. (23/01/2023), *Exploring ResNet50: An In-Depth Look at the Model Architecture and Code Implementation*, retrieved 10/12/2024 from, https://medium.com/@nitishkundu1993/exploring-resnet50-an-in-depth-look-at-the-model-architecture-and-code-implementation-d8d8fa67e46f\n",
    "\n",
    "__The information on residual connections was obtained from:__\n",
    "Wong W. (19/12/2021), *What is Residual Connection?*, retrieved 22/01/2025 from, https://towardsdatascience.com/what-is-residual-connection-efb07cab0d55\n",
    "\n",
    "__The information on vanishing gradients was obtained from:__\n",
    "Jacob T. (15/06/2023), *Vanishing Gradient Problem: Causes, Consequences, and Solutions*, retrieved 22/01/2025 from, https://www.kdnuggets.com/2022/02/vanishing-gradient-problem.html#:~:text=During%20back%20propagation%2C%20a%20neural,will%20decrease%20as%20a%20result."
   ]
  },
  {
   "cell_type": "markdown",
   "id": "55ede43b-25ff-45df-a58e-6000795ae321",
   "metadata": {},
   "source": [
    "# Import The Relevant Libraries"
   ]
  },
  {
   "cell_type": "code",
   "execution_count": 1,
   "id": "8d242970-b3f9-4e1c-abd8-e29f5106b6d5",
   "metadata": {},
   "outputs": [],
   "source": [
    "import matplotlib.pyplot as plt\n",
    "import numpy as np\n",
    "import os\n",
    "import PIL\n",
    "import tensorflow as tf\n",
    "from tensorflow import keras\n",
    "from tensorflow.keras import layers\n",
    "from tensorflow.python.keras.layers import Dense, Flatten\n",
    "from tensorflow.keras.models import Sequential\n",
    "from tensorflow.keras.optimizers import Adam"
   ]
  },
  {
   "cell_type": "code",
   "execution_count": 2,
   "id": "6e81c7d3-63f2-4c9f-af1c-6260c713c6b1",
   "metadata": {},
   "outputs": [],
   "source": [
    "from tensorflow.keras.utils import to_categorical\n",
    "from tensorflow.keras.applications.resnet import preprocess_input\n",
    "from tensorflow.keras.layers.experimental import preprocessing"
   ]
  },
  {
   "cell_type": "code",
   "execution_count": 3,
   "id": "b4f61b6f-5f8b-4d32-919a-f02790fdcf1c",
   "metadata": {},
   "outputs": [],
   "source": [
    "import keras_tuner as kt"
   ]
  },
  {
   "cell_type": "markdown",
   "id": "a78400f9-1dfd-42ff-b29e-f73a27c821fe",
   "metadata": {},
   "source": [
    "# Loading and Preprocessing The Data"
   ]
  },
  {
   "cell_type": "code",
   "execution_count": 4,
   "id": "2f4e703b-9df0-4282-8a4c-7a535ca8302c",
   "metadata": {},
   "outputs": [],
   "source": [
    "# Load Data and Make sure It is Divisible By The Batch_Size\n",
    "def load_and_truncate(data_class, data_fol = \"CNN_Data\", batch_size = 32, sim = 0):\n",
    "    \"\"\"\n",
    "    Loads the data and labels. If the user wants to use a particular\n",
    "    batch_size for training the data then the data and labels\n",
    "    are truncated such that they are divisible by the batch size.\n",
    "\n",
    "    Parameters\n",
    "    ----------\n",
    "    data_class : str\n",
    "        Whether the data is \"Train\", \"Test\" or \"Validation\".\n",
    "\n",
    "    data_fol : str, default = \"CNN_Data\"\n",
    "        The folder path of the images and labels.\n",
    "        \n",
    "    batch_size : int, default 32\n",
    "        The batch size you intend to use for the neural network.\n",
    "\n",
    "    sim : int, default 0\n",
    "        If sim is 0 then the loaded images and labels will contain\n",
    "        the simulated images and labels. Otherwise, only the actual\n",
    "        images and labels will be loaded\n",
    "\n",
    "    Returns\n",
    "    -------\n",
    "    imgs : numpy array\n",
    "        Arrays containing the relevant collection of images.\n",
    "\n",
    "    labels : numpy array\n",
    "        An arrays containing the relevant collection of labels.\n",
    "    \"\"\"\n",
    "    if sim == 0:\n",
    "        imgs = np.load(f\"{data_fol}/{data_class}/{data_class}_With_Sim_Imgs.npy\")\n",
    "        labels = np.load(f\"{data_fol}/{data_class}/{data_class}_With_Sim_Labels.npy\")\n",
    "    else:\n",
    "        imgs = np.load(f\"{data_fol}/{data_class}/{data_class}_Imgs.npy\")\n",
    "        labels = np.load(f\"{data_fol}/{data_class}/{data_class}_Labels.npy\")\n",
    "    end_pt = len(labels) % batch_size\n",
    "\n",
    "    if end_pt != 0:\n",
    "        imgs = imgs[:-end_pt]\n",
    "        labels = labels[:-end_pt]\n",
    "\n",
    "    return imgs, labels"
   ]
  },
  {
   "cell_type": "code",
   "execution_count": 5,
   "id": "56f4a417-1e25-48c2-9606-d9589918152e",
   "metadata": {},
   "outputs": [],
   "source": [
    "train_imgs, train_labels = load_and_truncate(\"Train\")\n",
    "val_imgs, val_labels = load_and_truncate(\"Validation\", sim = 1)\n",
    "test_imgs, test_labels = load_and_truncate(\"Test\", sim = 1)"
   ]
  },
  {
   "cell_type": "code",
   "execution_count": 6,
   "id": "8f00f15a-d9cd-4ae5-8cf0-f1a144ee6f76",
   "metadata": {},
   "outputs": [
    {
     "data": {
      "text/plain": [
       "(27680, 120, 120, 3)"
      ]
     },
     "execution_count": 6,
     "metadata": {},
     "output_type": "execute_result"
    }
   ],
   "source": [
    "train_imgs.shape"
   ]
  },
  {
   "cell_type": "code",
   "execution_count": 7,
   "id": "cce66a78-5de0-423d-b884-6e3f92256fab",
   "metadata": {},
   "outputs": [],
   "source": [
    "# Encode the labels via One Hot Encoding\n",
    "n_classes = 3\n",
    "train_labels = to_categorical(train_labels, num_classes=n_classes)\n",
    "val_labels = to_categorical(val_labels, num_classes=n_classes)\n",
    "test_labels = to_categorical(test_labels, num_classes=n_classes)"
   ]
  },
  {
   "cell_type": "code",
   "execution_count": 8,
   "id": "1f73f82e-52c4-4098-a6c6-62c0ac30f7aa",
   "metadata": {},
   "outputs": [],
   "source": [
    "# Preprocess the images\n",
    "train_imgs = preprocess_input(train_imgs) \n",
    "test_imgs = preprocess_input(test_imgs)\n",
    "val_imgs = preprocess_input(val_imgs)"
   ]
  },
  {
   "cell_type": "markdown",
   "id": "6670fbc0-1070-48a3-a329-74d47552c2a7",
   "metadata": {},
   "source": [
    "# Implementing ResNet50 Model"
   ]
  },
  {
   "cell_type": "markdown",
   "id": "568a91f9-b52e-492b-84cc-aaa2c90bd642",
   "metadata": {},
   "source": [
    "#### Tuning The Hyper-Parameters"
   ]
  },
  {
   "cell_type": "markdown",
   "id": "30feabfa-9098-4491-99bc-ef3925204581",
   "metadata": {},
   "source": [
    "__The hyper model code was adapted from:__\n",
    "omalleyt12's response under the thread *How to tune the number of epochs and batch_size?* on (22/10/2019), retrieved on 10/12/2024 from the github discussion forum: https://github.com/keras-team/keras-tuner/issues/122\n",
    "\n",
    "__The ResNet50 code was adapted from:__\n",
    "AVERAGEMN (2019) *Keras Binary Cats & Dogs ResNet 98%*, retrieved on 10/12/2024 from: https://www.kaggle.com/code/donkeys/keras-binary-cats-dogs-resnet-98\n",
    "\n",
    "__The tuner and hyperparameter code was adapted from:__\n",
    "TensorFlow Keras documentation (16/08/2024) *Introduction to the Keras Tuner*, retrieved on 10/12/2024 from: https://www.tensorflow.org/tutorials/keras/keras_tuner"
   ]
  },
  {
   "cell_type": "code",
   "execution_count": 9,
   "id": "390eb408-d5d9-4fa2-827c-f6586f5b518e",
   "metadata": {},
   "outputs": [],
   "source": [
    "class MyHyperModel(kt.HyperModel):\n",
    "    \"\"\"\n",
    "    A class representing a Hyper Model which allows for\n",
    "    keras tuner to identify the best parameters for\n",
    "    the ResNet model.\n",
    "    \"\"\"\n",
    "    \n",
    "    def build(self, hp):\n",
    "        \"\"\"\n",
    "        Builds the ResNet model according\n",
    "        to a particular set of hyperparameters\n",
    "    \n",
    "        Parameters\n",
    "        ----------\n",
    "        hp : keras HyperParameters instance\n",
    "            A HyperParameters Instance which contains the hyperparameters being tested.\n",
    "    \n",
    "        Returns\n",
    "        -------\n",
    "        resnet_model : keras Sequential model\n",
    "            A compiled ResNet50 convolutional neural network.\n",
    "        \"\"\"\n",
    "        resnet_model = keras.Sequential()\n",
    "        \n",
    "        input_shape = train_imgs[0].shape\n",
    "        pretrained_model= tf.keras.applications.ResNet50(include_top=False,\n",
    "                           input_shape=input_shape,\n",
    "                           pooling='avg',classes=n_classes,\n",
    "                           weights='imagenet')\n",
    "        \n",
    "        # Don't train the pretrained layers\n",
    "        for layer in pretrained_model.layers:\n",
    "                layer.trainable=False\n",
    "        \n",
    "        resnet_model.add(pretrained_model)\n",
    "        resnet_model.add(Flatten())\n",
    "        resnet_model.add(Dense(units=hp.Int(\"units\", min_value=32, max_value=512, step=32), activation='relu'))\n",
    "        \n",
    "        # Choose softmax activation for multi-class classification\n",
    "        resnet_model.add(Dense(n_classes, activation='softmax'))\n",
    "        resnet_model.build((None, input_shape[0], input_shape[1], input_shape[2]))\n",
    "        \n",
    "        # Choose categorical cross entropy loss function for multi-class classification\n",
    "        resnet_model.compile(optimizer=Adam(hp.Choice('learning_rate', values=[1e-2, 1e-3, 1e-4])),loss='categorical_crossentropy',metrics=['accuracy'])\n",
    "    \n",
    "        return resnet_model\n",
    "\n",
    "    def fit(self, hp, resnet_model, *args, **kwargs):\n",
    "        \"\"\"\n",
    "        Fits the given data and hyperparameters to \n",
    "        the input resnet_model.\n",
    "\n",
    "        Parameters\n",
    "        ----------\n",
    "        hp : keras HyperParameters instance\n",
    "            A HyperParameters Instance which contains the hyperparameters being tested.\n",
    "    \n",
    "        resnet_model : keras Sequential model\n",
    "            A compiled ResNet50 convolutional neural network.\n",
    "    \n",
    "        Returns\n",
    "        -------\n",
    "        fitted resnet model : keras Sequential model\n",
    "            A compiled ResNet50 convolutional neural network fitted to the given data,\n",
    "            with a particular set of hyperparameters.\n",
    "        \"\"\"\n",
    "        return resnet_model.fit(\n",
    "            *args,\n",
    "            batch_size=hp.Choice(\"batch_size\", [16, 32, 64]),\n",
    "            **kwargs,\n",
    "        )"
   ]
  },
  {
   "cell_type": "code",
   "execution_count": 10,
   "id": "341260cd-ccd6-4a10-880f-293f81a20c09",
   "metadata": {},
   "outputs": [],
   "source": [
    "tuner = kt.RandomSearch(\n",
    "    MyHyperModel(),\n",
    "    objective=\"val_accuracy\",\n",
    "    max_trials=10,\n",
    "    overwrite=True,\n",
    "    directory=\"Resnet_tuned_params\",\n",
    "    project_name=\"Resnet_tune_hypermodel\",\n",
    ")"
   ]
  },
  {
   "cell_type": "code",
   "execution_count": 11,
   "id": "6d92cd46-3721-410a-a86d-e3b330b91d86",
   "metadata": {},
   "outputs": [
    {
     "name": "stdout",
     "output_type": "stream",
     "text": [
      "Search space summary\n",
      "Default search space size: 2\n",
      "units (Int)\n",
      "{'default': None, 'conditions': [], 'min_value': 32, 'max_value': 512, 'step': 32, 'sampling': 'linear'}\n",
      "learning_rate (Choice)\n",
      "{'default': 0.01, 'conditions': [], 'values': [0.01, 0.001, 0.0001], 'ordered': True}\n"
     ]
    }
   ],
   "source": [
    "tuner.search_space_summary()"
   ]
  },
  {
   "cell_type": "code",
   "execution_count": 12,
   "id": "53b20407-d96c-4c6d-8179-eeda98aba242",
   "metadata": {},
   "outputs": [
    {
     "name": "stdout",
     "output_type": "stream",
     "text": [
      "Trial 10 Complete [00h 00m 54s]\n",
      "val_accuracy: 0.5574596524238586\n",
      "\n",
      "Best val_accuracy So Far: 0.5907257795333862\n",
      "Total elapsed time: 00h 10m 35s\n"
     ]
    }
   ],
   "source": [
    "tuner.search(train_imgs, train_labels, epochs = 3, validation_data = (val_imgs, val_labels))"
   ]
  },
  {
   "cell_type": "code",
   "execution_count": 13,
   "id": "fb851564-0748-48dd-a253-f2da118f9c91",
   "metadata": {
    "scrolled": true
   },
   "outputs": [
    {
     "name": "stdout",
     "output_type": "stream",
     "text": [
      "Results summary\n",
      "Results in Resnet_tuned_params\\Resnet_tune_hypermodel\n",
      "Showing 10 best trials\n",
      "Objective(name=\"val_accuracy\", direction=\"max\")\n",
      "\n",
      "Trial 03 summary\n",
      "Hyperparameters:\n",
      "units: 224\n",
      "learning_rate: 0.001\n",
      "batch_size: 32\n",
      "Score: 0.5907257795333862\n",
      "\n",
      "Trial 05 summary\n",
      "Hyperparameters:\n",
      "units: 512\n",
      "learning_rate: 0.0001\n",
      "batch_size: 16\n",
      "Score: 0.5836693644523621\n",
      "\n",
      "Trial 06 summary\n",
      "Hyperparameters:\n",
      "units: 256\n",
      "learning_rate: 0.01\n",
      "batch_size: 16\n",
      "Score: 0.5826612710952759\n",
      "\n",
      "Trial 01 summary\n",
      "Hyperparameters:\n",
      "units: 352\n",
      "learning_rate: 0.0001\n",
      "batch_size: 32\n",
      "Score: 0.5776209831237793\n",
      "\n",
      "Trial 08 summary\n",
      "Hyperparameters:\n",
      "units: 192\n",
      "learning_rate: 0.0001\n",
      "batch_size: 64\n",
      "Score: 0.5745967626571655\n",
      "\n",
      "Trial 00 summary\n",
      "Hyperparameters:\n",
      "units: 64\n",
      "learning_rate: 0.0001\n",
      "batch_size: 16\n",
      "Score: 0.5715726017951965\n",
      "\n",
      "Trial 07 summary\n",
      "Hyperparameters:\n",
      "units: 320\n",
      "learning_rate: 0.0001\n",
      "batch_size: 32\n",
      "Score: 0.569556474685669\n",
      "\n",
      "Trial 04 summary\n",
      "Hyperparameters:\n",
      "units: 256\n",
      "learning_rate: 0.001\n",
      "batch_size: 32\n",
      "Score: 0.5604838728904724\n",
      "\n",
      "Trial 02 summary\n",
      "Hyperparameters:\n",
      "units: 256\n",
      "learning_rate: 0.01\n",
      "batch_size: 32\n",
      "Score: 0.5594757795333862\n",
      "\n",
      "Trial 09 summary\n",
      "Hyperparameters:\n",
      "units: 96\n",
      "learning_rate: 0.01\n",
      "batch_size: 32\n",
      "Score: 0.5574596524238586\n"
     ]
    }
   ],
   "source": [
    "tuner.results_summary()"
   ]
  },
  {
   "cell_type": "code",
   "execution_count": 14,
   "id": "46e53ea5-20fe-40c4-8955-81a3633c6dc3",
   "metadata": {},
   "outputs": [],
   "source": [
    "best_hps=tuner.get_best_hyperparameters()[0]"
   ]
  },
  {
   "cell_type": "code",
   "execution_count": 15,
   "id": "3fcada18-e2dc-41eb-96fe-3ace530f8b40",
   "metadata": {},
   "outputs": [
    {
     "name": "stdout",
     "output_type": "stream",
     "text": [
      "Epoch 1/100\n",
      "865/865 [==============================] - 18s 18ms/step - loss: 0.7163 - accuracy: 0.6954 - val_loss: 1.1695 - val_accuracy: 0.4990\n",
      "Epoch 2/100\n",
      "865/865 [==============================] - 14s 17ms/step - loss: 0.5646 - accuracy: 0.7805 - val_loss: 1.0279 - val_accuracy: 0.5917\n",
      "Epoch 3/100\n",
      "865/865 [==============================] - 15s 17ms/step - loss: 0.5057 - accuracy: 0.8046 - val_loss: 1.2198 - val_accuracy: 0.5776\n",
      "Epoch 4/100\n",
      "865/865 [==============================] - 15s 17ms/step - loss: 0.4801 - accuracy: 0.8128 - val_loss: 1.0713 - val_accuracy: 0.5786\n",
      "Epoch 5/100\n",
      "865/865 [==============================] - 15s 17ms/step - loss: 0.4626 - accuracy: 0.8196 - val_loss: 1.2549 - val_accuracy: 0.5847\n",
      "Epoch 6/100\n",
      "865/865 [==============================] - 15s 17ms/step - loss: 0.4548 - accuracy: 0.8208 - val_loss: 1.0007 - val_accuracy: 0.5847\n",
      "Epoch 7/100\n",
      "865/865 [==============================] - 14s 17ms/step - loss: 0.4470 - accuracy: 0.8235 - val_loss: 1.1968 - val_accuracy: 0.5675\n",
      "Epoch 8/100\n",
      "865/865 [==============================] - 14s 17ms/step - loss: 0.4314 - accuracy: 0.8305 - val_loss: 1.1159 - val_accuracy: 0.5817\n",
      "Epoch 9/100\n",
      "865/865 [==============================] - 14s 17ms/step - loss: 0.4260 - accuracy: 0.8320 - val_loss: 1.2234 - val_accuracy: 0.5786\n",
      "Epoch 10/100\n",
      "865/865 [==============================] - 14s 17ms/step - loss: 0.4339 - accuracy: 0.8280 - val_loss: 1.1716 - val_accuracy: 0.5675\n",
      "Epoch 11/100\n",
      "865/865 [==============================] - 14s 17ms/step - loss: 0.4187 - accuracy: 0.8351 - val_loss: 1.3223 - val_accuracy: 0.5645\n",
      "Epoch 12/100\n",
      "865/865 [==============================] - 14s 17ms/step - loss: 0.4202 - accuracy: 0.8324 - val_loss: 1.4597 - val_accuracy: 0.5524\n",
      "Epoch 13/100\n",
      "865/865 [==============================] - 14s 17ms/step - loss: 0.4134 - accuracy: 0.8343 - val_loss: 1.1992 - val_accuracy: 0.5696\n",
      "Epoch 14/100\n",
      "865/865 [==============================] - 14s 17ms/step - loss: 0.4066 - accuracy: 0.8397 - val_loss: 1.0540 - val_accuracy: 0.5857\n",
      "Epoch 15/100\n",
      "865/865 [==============================] - 14s 17ms/step - loss: 0.4092 - accuracy: 0.8382 - val_loss: 0.9838 - val_accuracy: 0.5817\n",
      "Epoch 16/100\n",
      "865/865 [==============================] - 14s 17ms/step - loss: 0.4118 - accuracy: 0.8358 - val_loss: 1.5743 - val_accuracy: 0.5403\n",
      "Epoch 17/100\n",
      "865/865 [==============================] - 14s 17ms/step - loss: 0.4071 - accuracy: 0.8373 - val_loss: 0.9884 - val_accuracy: 0.5847\n",
      "Epoch 18/100\n",
      "865/865 [==============================] - 14s 17ms/step - loss: 0.4018 - accuracy: 0.8415 - val_loss: 1.2002 - val_accuracy: 0.5726\n",
      "Epoch 19/100\n",
      "865/865 [==============================] - 14s 17ms/step - loss: 0.3997 - accuracy: 0.8397 - val_loss: 1.0400 - val_accuracy: 0.5877\n",
      "Epoch 20/100\n",
      "865/865 [==============================] - 14s 17ms/step - loss: 0.3989 - accuracy: 0.8404 - val_loss: 1.0090 - val_accuracy: 0.5817\n",
      "Epoch 21/100\n",
      "865/865 [==============================] - 14s 17ms/step - loss: 0.3983 - accuracy: 0.8400 - val_loss: 1.1702 - val_accuracy: 0.5817\n",
      "Epoch 22/100\n",
      "865/865 [==============================] - 14s 17ms/step - loss: 0.3958 - accuracy: 0.8414 - val_loss: 1.4253 - val_accuracy: 0.5554\n",
      "Epoch 23/100\n",
      "865/865 [==============================] - 14s 17ms/step - loss: 0.3921 - accuracy: 0.8426 - val_loss: 1.0461 - val_accuracy: 0.5726\n",
      "Epoch 24/100\n",
      "865/865 [==============================] - 15s 17ms/step - loss: 0.3916 - accuracy: 0.8425 - val_loss: 1.2605 - val_accuracy: 0.5433\n",
      "Epoch 25/100\n",
      "865/865 [==============================] - 15s 17ms/step - loss: 0.3880 - accuracy: 0.8450 - val_loss: 0.8817 - val_accuracy: 0.6028\n",
      "Epoch 26/100\n",
      "865/865 [==============================] - 15s 17ms/step - loss: 0.3889 - accuracy: 0.8444 - val_loss: 1.0353 - val_accuracy: 0.5857\n",
      "Epoch 27/100\n",
      "865/865 [==============================] - 15s 17ms/step - loss: 0.3853 - accuracy: 0.8442 - val_loss: 1.0688 - val_accuracy: 0.5766\n",
      "Epoch 28/100\n",
      "865/865 [==============================] - 14s 17ms/step - loss: 0.3895 - accuracy: 0.8425 - val_loss: 0.9403 - val_accuracy: 0.5917\n",
      "Epoch 29/100\n",
      "865/865 [==============================] - 14s 17ms/step - loss: 0.3854 - accuracy: 0.8439 - val_loss: 1.0792 - val_accuracy: 0.5645\n",
      "Epoch 30/100\n",
      "865/865 [==============================] - 14s 16ms/step - loss: 0.3834 - accuracy: 0.8442 - val_loss: 1.0543 - val_accuracy: 0.5796\n",
      "Epoch 31/100\n",
      "865/865 [==============================] - 14s 17ms/step - loss: 0.3808 - accuracy: 0.8450 - val_loss: 1.0107 - val_accuracy: 0.5756\n",
      "Epoch 32/100\n",
      "865/865 [==============================] - 14s 17ms/step - loss: 0.3821 - accuracy: 0.8451 - val_loss: 0.8593 - val_accuracy: 0.6109\n",
      "Epoch 33/100\n",
      "865/865 [==============================] - 14s 17ms/step - loss: 0.3810 - accuracy: 0.8433 - val_loss: 0.9227 - val_accuracy: 0.5817\n",
      "Epoch 34/100\n",
      "865/865 [==============================] - 15s 17ms/step - loss: 0.3803 - accuracy: 0.8438 - val_loss: 0.9861 - val_accuracy: 0.5796\n",
      "Epoch 35/100\n",
      "865/865 [==============================] - 14s 17ms/step - loss: 0.3775 - accuracy: 0.8457 - val_loss: 1.1757 - val_accuracy: 0.5514\n",
      "Epoch 36/100\n",
      "865/865 [==============================] - 14s 17ms/step - loss: 0.3772 - accuracy: 0.8465 - val_loss: 1.0754 - val_accuracy: 0.5806\n",
      "Epoch 37/100\n",
      "865/865 [==============================] - 14s 17ms/step - loss: 0.3802 - accuracy: 0.8453 - val_loss: 1.0879 - val_accuracy: 0.5806\n",
      "Epoch 38/100\n",
      "865/865 [==============================] - 14s 17ms/step - loss: 0.3741 - accuracy: 0.8471 - val_loss: 0.9103 - val_accuracy: 0.5948\n",
      "Epoch 39/100\n",
      "865/865 [==============================] - 14s 17ms/step - loss: 0.3732 - accuracy: 0.8466 - val_loss: 0.9497 - val_accuracy: 0.6008\n",
      "Epoch 40/100\n",
      "865/865 [==============================] - 14s 17ms/step - loss: 0.3735 - accuracy: 0.8474 - val_loss: 0.9129 - val_accuracy: 0.5927\n",
      "Epoch 41/100\n",
      "865/865 [==============================] - 14s 17ms/step - loss: 0.3721 - accuracy: 0.8482 - val_loss: 1.1663 - val_accuracy: 0.5474\n",
      "Epoch 42/100\n",
      "865/865 [==============================] - 14s 17ms/step - loss: 0.3731 - accuracy: 0.8477 - val_loss: 0.9733 - val_accuracy: 0.5786\n",
      "Epoch 43/100\n",
      "865/865 [==============================] - 14s 17ms/step - loss: 0.3730 - accuracy: 0.8474 - val_loss: 1.0839 - val_accuracy: 0.5585\n",
      "Epoch 44/100\n",
      "865/865 [==============================] - 14s 17ms/step - loss: 0.3749 - accuracy: 0.8470 - val_loss: 1.2070 - val_accuracy: 0.5756\n",
      "Epoch 45/100\n",
      "865/865 [==============================] - 14s 17ms/step - loss: 0.3706 - accuracy: 0.8491 - val_loss: 0.9382 - val_accuracy: 0.5938\n",
      "Epoch 46/100\n",
      "865/865 [==============================] - 14s 17ms/step - loss: 0.3681 - accuracy: 0.8492 - val_loss: 0.9474 - val_accuracy: 0.5917\n",
      "Epoch 47/100\n",
      "865/865 [==============================] - 14s 17ms/step - loss: 0.3669 - accuracy: 0.8482 - val_loss: 1.2872 - val_accuracy: 0.5585\n",
      "Epoch 48/100\n",
      "865/865 [==============================] - 14s 17ms/step - loss: 0.3671 - accuracy: 0.8496 - val_loss: 0.8905 - val_accuracy: 0.6129\n",
      "Epoch 49/100\n",
      "865/865 [==============================] - 14s 17ms/step - loss: 0.3644 - accuracy: 0.8502 - val_loss: 1.2643 - val_accuracy: 0.5635\n",
      "Epoch 50/100\n",
      "865/865 [==============================] - 14s 17ms/step - loss: 0.3655 - accuracy: 0.8499 - val_loss: 1.0615 - val_accuracy: 0.5887\n",
      "Epoch 51/100\n",
      "865/865 [==============================] - 14s 17ms/step - loss: 0.3640 - accuracy: 0.8500 - val_loss: 0.8811 - val_accuracy: 0.5988\n",
      "Epoch 52/100\n",
      "865/865 [==============================] - 14s 17ms/step - loss: 0.3636 - accuracy: 0.8488 - val_loss: 0.9040 - val_accuracy: 0.5857\n",
      "Epoch 53/100\n",
      "865/865 [==============================] - 14s 17ms/step - loss: 0.3617 - accuracy: 0.8514 - val_loss: 1.1159 - val_accuracy: 0.5605\n",
      "Epoch 54/100\n",
      "865/865 [==============================] - 14s 17ms/step - loss: 0.3705 - accuracy: 0.8476 - val_loss: 0.9847 - val_accuracy: 0.5706\n",
      "Epoch 55/100\n",
      "865/865 [==============================] - 14s 17ms/step - loss: 0.3620 - accuracy: 0.8491 - val_loss: 0.9891 - val_accuracy: 0.5766\n",
      "Epoch 56/100\n",
      "865/865 [==============================] - 14s 17ms/step - loss: 0.3623 - accuracy: 0.8511 - val_loss: 0.8828 - val_accuracy: 0.6058\n",
      "Epoch 57/100\n",
      "865/865 [==============================] - 15s 17ms/step - loss: 0.3622 - accuracy: 0.8492 - val_loss: 1.1840 - val_accuracy: 0.5786\n",
      "Epoch 58/100\n",
      "865/865 [==============================] - 14s 17ms/step - loss: 0.3614 - accuracy: 0.8488 - val_loss: 0.9451 - val_accuracy: 0.6008\n",
      "Epoch 59/100\n",
      "865/865 [==============================] - 15s 17ms/step - loss: 0.3638 - accuracy: 0.8482 - val_loss: 1.1171 - val_accuracy: 0.5554\n",
      "Epoch 60/100\n",
      "865/865 [==============================] - 15s 17ms/step - loss: 0.3597 - accuracy: 0.8510 - val_loss: 0.9357 - val_accuracy: 0.5847\n",
      "Epoch 61/100\n",
      "865/865 [==============================] - 15s 17ms/step - loss: 0.3622 - accuracy: 0.8483 - val_loss: 1.0417 - val_accuracy: 0.5675\n",
      "Epoch 62/100\n",
      "865/865 [==============================] - 15s 17ms/step - loss: 0.3577 - accuracy: 0.8516 - val_loss: 0.9101 - val_accuracy: 0.5847\n",
      "Epoch 63/100\n",
      "865/865 [==============================] - 14s 17ms/step - loss: 0.3532 - accuracy: 0.8514 - val_loss: 0.9491 - val_accuracy: 0.5917\n",
      "Epoch 64/100\n",
      "865/865 [==============================] - 15s 17ms/step - loss: 0.3581 - accuracy: 0.8520 - val_loss: 1.1360 - val_accuracy: 0.5585\n",
      "Epoch 65/100\n",
      "865/865 [==============================] - 14s 17ms/step - loss: 0.3573 - accuracy: 0.8525 - val_loss: 1.1925 - val_accuracy: 0.5635\n",
      "Epoch 66/100\n",
      "865/865 [==============================] - 15s 17ms/step - loss: 0.3554 - accuracy: 0.8518 - val_loss: 1.1942 - val_accuracy: 0.5605\n",
      "Epoch 67/100\n",
      "865/865 [==============================] - 15s 18ms/step - loss: 0.3586 - accuracy: 0.8508 - val_loss: 0.9892 - val_accuracy: 0.5897\n",
      "Epoch 68/100\n",
      "865/865 [==============================] - 15s 17ms/step - loss: 0.3545 - accuracy: 0.8520 - val_loss: 1.2561 - val_accuracy: 0.5726\n",
      "Epoch 69/100\n",
      "865/865 [==============================] - 14s 17ms/step - loss: 0.3544 - accuracy: 0.8532 - val_loss: 1.0532 - val_accuracy: 0.5917\n",
      "Epoch 70/100\n",
      "865/865 [==============================] - 14s 17ms/step - loss: 0.3531 - accuracy: 0.8516 - val_loss: 0.8594 - val_accuracy: 0.6442\n",
      "Epoch 71/100\n",
      "865/865 [==============================] - 14s 17ms/step - loss: 0.3551 - accuracy: 0.8525 - val_loss: 1.0063 - val_accuracy: 0.5837\n",
      "Epoch 72/100\n",
      "865/865 [==============================] - 14s 17ms/step - loss: 0.3546 - accuracy: 0.8514 - val_loss: 0.8995 - val_accuracy: 0.5948\n",
      "Epoch 73/100\n",
      "865/865 [==============================] - 14s 17ms/step - loss: 0.3521 - accuracy: 0.8536 - val_loss: 0.9471 - val_accuracy: 0.5867\n",
      "Epoch 74/100\n",
      "865/865 [==============================] - 14s 17ms/step - loss: 0.3498 - accuracy: 0.8516 - val_loss: 0.9587 - val_accuracy: 0.5948\n",
      "Epoch 75/100\n",
      "865/865 [==============================] - 14s 17ms/step - loss: 0.3525 - accuracy: 0.8547 - val_loss: 0.9851 - val_accuracy: 0.5746\n",
      "Epoch 76/100\n",
      "865/865 [==============================] - 14s 17ms/step - loss: 0.3534 - accuracy: 0.8518 - val_loss: 0.8771 - val_accuracy: 0.6008\n",
      "Epoch 77/100\n",
      "865/865 [==============================] - 14s 17ms/step - loss: 0.3521 - accuracy: 0.8528 - val_loss: 0.8616 - val_accuracy: 0.5948\n",
      "Epoch 78/100\n",
      "865/865 [==============================] - 14s 17ms/step - loss: 0.3509 - accuracy: 0.8535 - val_loss: 1.0057 - val_accuracy: 0.5917\n",
      "Epoch 79/100\n",
      "865/865 [==============================] - 14s 16ms/step - loss: 0.3526 - accuracy: 0.8531 - val_loss: 0.8460 - val_accuracy: 0.6109\n",
      "Epoch 80/100\n",
      "865/865 [==============================] - 15s 17ms/step - loss: 0.3514 - accuracy: 0.8535 - val_loss: 0.8296 - val_accuracy: 0.6290\n",
      "Epoch 81/100\n",
      "865/865 [==============================] - 14s 17ms/step - loss: 0.3476 - accuracy: 0.8540 - val_loss: 1.0050 - val_accuracy: 0.5847\n",
      "Epoch 82/100\n",
      "865/865 [==============================] - 14s 16ms/step - loss: 0.3517 - accuracy: 0.8542 - val_loss: 0.9777 - val_accuracy: 0.5837\n",
      "Epoch 83/100\n",
      "865/865 [==============================] - 14s 17ms/step - loss: 0.3459 - accuracy: 0.8544 - val_loss: 1.0635 - val_accuracy: 0.5827\n",
      "Epoch 84/100\n",
      "865/865 [==============================] - 15s 17ms/step - loss: 0.3481 - accuracy: 0.8538 - val_loss: 0.8738 - val_accuracy: 0.6371\n",
      "Epoch 85/100\n",
      "865/865 [==============================] - 14s 17ms/step - loss: 0.3533 - accuracy: 0.8528 - val_loss: 0.8191 - val_accuracy: 0.6361\n",
      "Epoch 86/100\n",
      "865/865 [==============================] - 14s 17ms/step - loss: 0.3507 - accuracy: 0.8529 - val_loss: 1.2079 - val_accuracy: 0.5544\n",
      "Epoch 87/100\n",
      "865/865 [==============================] - 14s 17ms/step - loss: 0.3468 - accuracy: 0.8548 - val_loss: 0.9978 - val_accuracy: 0.5887\n",
      "Epoch 88/100\n",
      "865/865 [==============================] - 14s 17ms/step - loss: 0.3441 - accuracy: 0.8563 - val_loss: 0.8468 - val_accuracy: 0.6250\n",
      "Epoch 89/100\n",
      "865/865 [==============================] - 14s 17ms/step - loss: 0.3467 - accuracy: 0.8530 - val_loss: 1.1092 - val_accuracy: 0.5605\n",
      "Epoch 90/100\n",
      "865/865 [==============================] - 14s 17ms/step - loss: 0.3484 - accuracy: 0.8532 - val_loss: 0.8541 - val_accuracy: 0.6643\n",
      "Epoch 91/100\n",
      "865/865 [==============================] - 14s 17ms/step - loss: 0.3452 - accuracy: 0.8551 - val_loss: 1.0301 - val_accuracy: 0.5958\n",
      "Epoch 92/100\n",
      "865/865 [==============================] - 14s 17ms/step - loss: 0.3450 - accuracy: 0.8564 - val_loss: 0.7871 - val_accuracy: 0.6351\n",
      "Epoch 93/100\n",
      "865/865 [==============================] - 14s 17ms/step - loss: 0.3459 - accuracy: 0.8563 - val_loss: 0.8790 - val_accuracy: 0.6119\n",
      "Epoch 94/100\n",
      "865/865 [==============================] - 14s 17ms/step - loss: 0.3505 - accuracy: 0.8533 - val_loss: 0.8267 - val_accuracy: 0.6200\n",
      "Epoch 95/100\n",
      "865/865 [==============================] - 14s 17ms/step - loss: 0.3474 - accuracy: 0.8558 - val_loss: 1.0204 - val_accuracy: 0.5796\n",
      "Epoch 96/100\n",
      "865/865 [==============================] - 14s 17ms/step - loss: 0.3463 - accuracy: 0.8546 - val_loss: 0.7937 - val_accuracy: 0.6371\n",
      "Epoch 97/100\n",
      "865/865 [==============================] - 14s 17ms/step - loss: 0.3438 - accuracy: 0.8551 - val_loss: 0.9761 - val_accuracy: 0.5897\n",
      "Epoch 98/100\n",
      "865/865 [==============================] - 14s 17ms/step - loss: 0.3473 - accuracy: 0.8545 - val_loss: 0.9039 - val_accuracy: 0.6028\n",
      "Epoch 99/100\n",
      "865/865 [==============================] - 14s 17ms/step - loss: 0.3422 - accuracy: 0.8563 - val_loss: 1.0541 - val_accuracy: 0.5796\n",
      "Epoch 100/100\n",
      "865/865 [==============================] - 14s 16ms/step - loss: 0.3440 - accuracy: 0.8561 - val_loss: 0.9962 - val_accuracy: 0.5978\n"
     ]
    }
   ],
   "source": [
    "epochs = 100\n",
    "model = tuner.hypermodel.build(best_hps)\n",
    "history = model.fit(train_imgs, train_labels, shuffle = True, epochs=epochs, validation_data=(val_imgs, val_labels))"
   ]
  },
  {
   "cell_type": "markdown",
   "id": "a1158d0e-82d4-4519-bc6a-c9bd70693d4f",
   "metadata": {},
   "source": [
    "# Plot The Loss and Accuracy"
   ]
  },
  {
   "cell_type": "code",
   "execution_count": 16,
   "id": "8a0fbdb9-f266-4d6a-9c52-ab4e71d9d2b1",
   "metadata": {},
   "outputs": [
    {
     "data": {
      "image/png": "[encoded data removed]",
      "text/plain": [
       "<Figure size 640x480 with 1 Axes>"
      ]
     },
     "metadata": {},
     "output_type": "display_data"
    }
   ],
   "source": [
    "plt.plot(history.history['loss'],'b-')\n",
    "plt.plot(history.history['val_loss'],'orange')\n",
    "plt.legend(['loss', 'val_loss'])\n",
    "plt.xlabel('Epoch')\n",
    "plt.ylabel('Loss')\n",
    "plt.title('Model Loss Vs. Epochs')\n",
    "plt.show()"
   ]
  },
  {
   "cell_type": "code",
   "execution_count": 17,
   "id": "bf149095-f26b-4797-905d-d40985d02e72",
   "metadata": {},
   "outputs": [
    {
     "data": {
      "image/png": "[encoded data removed]",
      "text/plain": [
       "<Figure size 640x480 with 1 Axes>"
      ]
     },
     "metadata": {},
     "output_type": "display_data"
    }
   ],
   "source": [
    "plt.plot(history.history['accuracy'])\n",
    "plt.plot(history.history['val_accuracy'],'orange')\n",
    "plt.legend(['accuracy', 'val_accuracy'])\n",
    "plt.xlabel('Epoch')\n",
    "plt.ylabel('Accuracy')\n",
    "plt.title('Model Accuracy Vs. Epochs')\n",
    "plt.show()"
   ]
  },
  {
   "cell_type": "markdown",
   "id": "28ebd1bf-a91a-4289-ae50-6d3cc92446e9",
   "metadata": {},
   "source": [
    "Though the ResNet50 model performs better than the VGG-16 model, the increase in accuracy is approximately 7%. With the simulated data, the model performs worse which suggests that the simulated transients are not adequately representative of the actual transients. This may be due to the unaccounted for artefacts that appear in the actual transients' images.\n",
    "\n",
    "Overall, the poor accuracies and loss curves in the VGG-16 and ResNet50 models suggest that only using the image slices of the sources may not provide an accurate way to classify whether they are transients. This is likely due to the absence of the time dependency in the use of randomised image slices which are essential to the nature of transient phenomena. Time series classification may be a useful alternative to explore."
   ]
  },
  {
   "cell_type": "code",
   "execution_count": null,
   "id": "10063250-df16-4966-85d9-673f7670ba27",
   "metadata": {},
   "outputs": [],
   "source": []
  }
 ],
 "metadata": {
  "kernelspec": {
   "display_name": "Python 3 (ipykernel)",
   "language": "python",
   "name": "python3"
  },
  "language_info": {
   "codemirror_mode": {
    "name": "ipython",
    "version": 3
   },
   "file_extension": ".py",
   "mimetype": "text/x-python",
   "name": "python",
   "nbconvert_exporter": "python",
   "pygments_lexer": "ipython3",
   "version": "3.10.16"
  }
 },
 "nbformat": 4,
 "nbformat_minor": 5
}
