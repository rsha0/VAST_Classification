{
 "cells": [
  {
   "cell_type": "markdown",
   "id": "478147dd-1201-4ca0-b266-2252f62ca7d2",
   "metadata": {},
   "source": [
    "# Import Libraries"
   ]
  },
  {
   "cell_type": "code",
   "execution_count": 1,
   "id": "c373cc48-0da4-47b0-91ac-f57c23c044d8",
   "metadata": {},
   "outputs": [],
   "source": [
    "import numpy as np\n",
    "import pandas as pd\n",
    "from sklearn.tree import DecisionTreeClassifier # Import Decision Tree Classifier\n",
    "from sklearn.model_selection import train_test_split # Import train_test_split function\n",
    "from sklearn import metrics #Import scikit-learn metrics module for accuracy calculation\n",
    "import os"
   ]
  },
  {
   "cell_type": "markdown",
   "id": "a2081733-4cd2-4b50-ab46-b41e148a1847",
   "metadata": {},
   "source": [
    "# Obtain The Relevant Data"
   ]
  },
  {
   "cell_type": "code",
   "execution_count": 2,
   "id": "39e7314d-198f-4217-a3ef-85b3b05a84ae",
   "metadata": {},
   "outputs": [],
   "source": [
    "def get_rel_data(folder_name):\n",
    "    \"\"\"\n",
    "    Collect all the VAST csv data into 1 dataframe and save the files. Label the sources which are transients with 1 and\n",
    "    label the sources which are not transients with 0.\n",
    "\n",
    "    Parameters\n",
    "    ----------\n",
    "    folder_name : string\n",
    "        Path of the folder with the VAST csv files.\n",
    "\n",
    "    Returns\n",
    "    -------\n",
    "    t_rel_data : dataframe\n",
    "        A dataframe containing all the csv files with the only features being 'chi_square', 'chi_square_sigma', 'peak_map', 'peak_map_sigma', 'std_map', 'md_deep', 'deep_sep_arcsec', \n",
    "        'deep_num', 'bright_sep_arcmin', 'beam_sep_deg', 'deep_peak_flux', 'deep_int_flux', 'PSR_Label'.\n",
    "\n",
    "    t_data : dataframe\n",
    "        A dataframe containing all the csv files and includes a label indicating whether a transient was detected.\n",
    "    \"\"\"\n",
    "    t_data = pd.read_csv(folder_name+\"/\" + os.listdir(folder_name)[1])\n",
    "    for filename in os.listdir(folder_name)[2:]:\n",
    "        new_df = pd.read_csv(folder_name +\"/\"+ filename)\n",
    "        t_data = pd.concat([t_data, new_df], ignore_index=True, axis=0)\n",
    "    \n",
    "    # Create column of labels\n",
    "    t_data['PSR_name_int'] = t_data['PSR_name'].notnull().astype(int)\n",
    "    t_data['KNOWN_name_int'] = t_data['KNOWN_name'].notnull().astype(int)\n",
    "    t_data['PSR_Label'] = t_data['PSR_name_int']+t_data['KNOWN_name_int'] # since \"PSR_name_int\" and \"KNOWN_name_int\" are exclusive of eachother.\n",
    "    \n",
    "    # Take a subset of features that may be useful for the decision tree (deep_sep_arcsec may be particularly important)\n",
    "    rel_cols = ['chi_square', 'chi_square_sigma', 'peak_map', 'peak_map_sigma', 'std_map', 'md_deep', 'deep_sep_arcsec', \n",
    "                'deep_num', 'bright_sep_arcmin', 'beam_sep_deg', 'deep_peak_flux', 'deep_int_flux', 'PSR_Label']\n",
    "    t_rel_data = t_data[rel_cols]\n",
    "    \n",
    "    # Save the data\n",
    "    filename = \"Transient_Data_Selected_Features.csv\"\n",
    "    t_rel_data.to_csv(filename, encoding='utf-8', index=False)\n",
    "\n",
    "    filename2 = \"All_Transient_Data.csv\"\n",
    "    t_data.to_csv(filename2, encoding='utf-8', index=False)\n",
    "\n",
    "    return t_rel_data, t_data"
   ]
  },
  {
   "cell_type": "code",
   "execution_count": 3,
   "id": "d179f9ab-8988-42d9-933b-4a5f91b0a744",
   "metadata": {},
   "outputs": [],
   "source": [
    "# Collect the data\n",
    "t_rel_data, t_data = get_rel_data(\"VAST_10s_CSV\")"
   ]
  }
 ],
 "metadata": {
  "kernelspec": {
   "display_name": "Python 3 (ipykernel)",
   "language": "python",
   "name": "python3"
  },
  "language_info": {
   "codemirror_mode": {
    "name": "ipython",
    "version": 3
   },
   "file_extension": ".py",
   "mimetype": "text/x-python",
   "name": "python",
   "nbconvert_exporter": "python",
   "pygments_lexer": "ipython3",
   "version": "3.10.16"
  }
 },
 "nbformat": 4,
 "nbformat_minor": 5
}
