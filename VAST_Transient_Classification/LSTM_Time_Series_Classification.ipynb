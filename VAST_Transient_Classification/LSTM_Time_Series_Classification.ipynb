{
 "cells": [
  {
   "cell_type": "markdown",
   "id": "773f81f7-8728-4f75-b992-6d2c77913c07",
   "metadata": {},
   "source": [
    "# LSTMs (A Brief Introduction)"
   ]
  },
  {
   "cell_type": "markdown",
   "id": "8af0d91a-406a-4c9a-abba-b8abf3bfa7ae",
   "metadata": {},
   "source": [
    "Long Short Term Memory Networks (LSTM) are recurrent neural networks which incorporates feedback connections hence allowing it to effectively classify time series data where there are relationships between future data and past data.\n",
    "\n",
    "__The information on Long Short Term Memory Networks was obtained from:__\n",
    "Saxena S. (30/12/2024), *What is LSTM? Introduction to Long Short-Term Memory*, retrieved on 06/01/2025 from, https://www.analyticsvidhya.com/blog/2021/03/introduction-to-long-short-term-memory-lstm/\n",
    "\n",
    "The preprocessing steps and the  implementation of the LSTM code is adapted from __Singh A. (14/10/2024), *A Hands-On Introduction to Time Series Classification (with Python Code)*, retrieved on 06/01/2025 from:__ <https://www.analyticsvidhya.com/blog/2019/01/introduction-time-series-classification/>"
   ]
  },
  {
   "cell_type": "markdown",
   "id": "e93f8a61-74fd-4a05-9ba3-191095ab20ab",
   "metadata": {},
   "source": [
    "# Import The Relevant Libraries"
   ]
  },
  {
   "cell_type": "code",
   "execution_count": 1,
   "id": "4163551e-c803-4626-ad02-8ba7a0d7b295",
   "metadata": {},
   "outputs": [],
   "source": [
    "import os\n",
    "import pandas as pd\n",
    "import numpy as np\n",
    "%matplotlib inline\n",
    "import matplotlib.pyplot as plt\n",
    "from os import listdir\n",
    "from keras.preprocessing import sequence\n",
    "import tensorflow as tf\n",
    "from keras.models import Sequential\n",
    "from keras.layers import Dense\n",
    "from keras.layers import LSTM\n",
    "\n",
    "from keras.optimizers import Adam\n",
    "from keras.models import load_model\n",
    "from keras.callbacks import ModelCheckpoint"
   ]
  },
  {
   "cell_type": "markdown",
   "id": "0a9c96ff-2e90-4862-97fe-8192c1987054",
   "metadata": {},
   "source": [
    "# Obtain and Process The Vast Data"
   ]
  },
  {
   "cell_type": "code",
   "execution_count": 2,
   "id": "a60ec957-c375-4943-af4e-cd4a49310aef",
   "metadata": {},
   "outputs": [],
   "source": [
    "t_data = pd.read_csv(\"All_Transient_Data.csv\")"
   ]
  },
  {
   "cell_type": "code",
   "execution_count": 3,
   "id": "cb0fdd46-9109-40ad-8a9d-ba729e41ca41",
   "metadata": {},
   "outputs": [
    {
     "data": {
      "text/html": [
       "<div>\n",
       "<style scoped>\n",
       "    .dataframe tbody tr th:only-of-type {\n",
       "        vertical-align: middle;\n",
       "    }\n",
       "\n",
       "    .dataframe tbody tr th {\n",
       "        vertical-align: top;\n",
       "    }\n",
       "\n",
       "    .dataframe thead th {\n",
       "        text-align: right;\n",
       "    }\n",
       "</style>\n",
       "<table border=\"1\" class=\"dataframe\">\n",
       "  <thead>\n",
       "    <tr style=\"text-align: right;\">\n",
       "      <th></th>\n",
       "      <th>sbid</th>\n",
       "      <th>beam</th>\n",
       "      <th>name</th>\n",
       "      <th>PSR_Label</th>\n",
       "    </tr>\n",
       "  </thead>\n",
       "  <tbody>\n",
       "    <tr>\n",
       "      <th>0</th>\n",
       "      <td>49588</td>\n",
       "      <td>beam00</td>\n",
       "      <td>J163259.92-501507.22</td>\n",
       "      <td>1</td>\n",
       "    </tr>\n",
       "    <tr>\n",
       "      <th>1</th>\n",
       "      <td>49588</td>\n",
       "      <td>beam00</td>\n",
       "      <td>J163048.20-491129.49</td>\n",
       "      <td>0</td>\n",
       "    </tr>\n",
       "    <tr>\n",
       "      <th>2</th>\n",
       "      <td>49588</td>\n",
       "      <td>beam04</td>\n",
       "      <td>J162710.82-481537.04</td>\n",
       "      <td>0</td>\n",
       "    </tr>\n",
       "    <tr>\n",
       "      <th>3</th>\n",
       "      <td>49588</td>\n",
       "      <td>beam05</td>\n",
       "      <td>J163250.42-482506.53</td>\n",
       "      <td>0</td>\n",
       "    </tr>\n",
       "    <tr>\n",
       "      <th>4</th>\n",
       "      <td>49588</td>\n",
       "      <td>beam06</td>\n",
       "      <td>J164019.07-490047.32</td>\n",
       "      <td>0</td>\n",
       "    </tr>\n",
       "  </tbody>\n",
       "</table>\n",
       "</div>"
      ],
      "text/plain": [
       "    sbid    beam                  name  PSR_Label\n",
       "0  49588  beam00  J163259.92-501507.22          1\n",
       "1  49588  beam00  J163048.20-491129.49          0\n",
       "2  49588  beam04  J162710.82-481537.04          0\n",
       "3  49588  beam05  J163250.42-482506.53          0\n",
       "4  49588  beam06  J164019.07-490047.32          0"
      ]
     },
     "execution_count": 3,
     "metadata": {},
     "output_type": "execute_result"
    }
   ],
   "source": [
    "# Obtain data for the relevant features\n",
    "rel_data = t_data[[\"sbid\",\"beam\",\"name\",\"PSR_Label\"]]\n",
    "rel_data.head()"
   ]
  },
  {
   "cell_type": "code",
   "execution_count": 4,
   "id": "f0b4906e-e0fc-41da-8f64-3bab16aa1b1e",
   "metadata": {},
   "outputs": [],
   "source": [
    "# Remove all nan values \n",
    "rel_data = rel_data.dropna(how='any',axis=0)"
   ]
  },
  {
   "cell_type": "code",
   "execution_count": 5,
   "id": "2c3acda3-c70f-494e-925d-b254955dbf6a",
   "metadata": {},
   "outputs": [],
   "source": [
    "# Obtain the paths for the light curves\n",
    "rel_data[\"sbid\"] = rel_data[\"sbid\"].astype(str)\n",
    "rel_data[\"lc_peakflux_path\"] = \"SB\"+rel_data[\"sbid\"]+\"_\"+rel_data[\"beam\"]+\"_lightcurve_peak_flux.csv\""
   ]
  },
  {
   "cell_type": "code",
   "execution_count": 6,
   "id": "9fd76354-a803-46f7-8514-50bb366c53f2",
   "metadata": {},
   "outputs": [
    {
     "data": {
      "text/plain": [
       "0    SB49588_beam00_lightcurve_peak_flux.csv\n",
       "1    SB49588_beam00_lightcurve_peak_flux.csv\n",
       "2    SB49588_beam04_lightcurve_peak_flux.csv\n",
       "3    SB49588_beam05_lightcurve_peak_flux.csv\n",
       "4    SB49588_beam06_lightcurve_peak_flux.csv\n",
       "Name: lc_peakflux_path, dtype: object"
      ]
     },
     "execution_count": 6,
     "metadata": {},
     "output_type": "execute_result"
    }
   ],
   "source": [
    "rel_data[\"lc_peakflux_path\"].head()"
   ]
  },
  {
   "cell_type": "code",
   "execution_count": 7,
   "id": "a6981680-0342-467c-b321-d254e07a41fd",
   "metadata": {},
   "outputs": [],
   "source": [
    "# Obtain all the light curves that are available since some light curve paths in the rel_data may not correspond to an actual light curve\n",
    "lc_folder_name = \"VAST 10s lightcurve\"\n",
    "avail_files = os.listdir(lc_folder_name)\n",
    "\n",
    "match_files = []\n",
    "for i in list(rel_data[\"lc_peakflux_path\"].unique()):\n",
    "    if i in avail_files:\n",
    "        match_files.append(i)"
   ]
  },
  {
   "cell_type": "code",
   "execution_count": 8,
   "id": "5a39c6b6-c8ff-4b24-a4fe-5b8428df0cac",
   "metadata": {},
   "outputs": [],
   "source": [
    "# find the limiting size of the light curves\n",
    "seq_sizes = []\n",
    "for file in match_files:\n",
    "    pf_df = pd.read_csv(f\"{lc_folder_name}/{file}\")\n",
    "    seq_len = pf_df.shape[0]\n",
    "    seq_sizes.append(seq_len)\n",
    "min_seq_size = min(seq_sizes)"
   ]
  },
  {
   "cell_type": "markdown",
   "id": "b9dbc67b-7201-4134-a493-498d08be955b",
   "metadata": {},
   "source": [
    "# Obtain and Process The Unbalanced Dataframe"
   ]
  },
  {
   "cell_type": "code",
   "execution_count": 9,
   "id": "67eb41dc-5125-4408-b9d4-4e1d0f4b1cc4",
   "metadata": {},
   "outputs": [],
   "source": [
    "def normalise_signal(signal):\n",
    "    \"\"\"\n",
    "    Applies min-max normalisation on an array or signal.\n",
    "\n",
    "    Parameters\n",
    "    ----------\n",
    "    signal : list or numpy array\n",
    "        A list or array of integers or floats.\n",
    "\n",
    "    Returns\n",
    "    -------\n",
    "    signal : numpy array\n",
    "        A min-max normalised numpy array\n",
    "    \"\"\"\n",
    "    # Min-max normalisation so values are in between 0 and 1\n",
    "    signal = np.array(signal)\n",
    "    signal = (signal - signal.min())/ (signal.max() - signal.min())\n",
    "    return signal"
   ]
  },
  {
   "cell_type": "code",
   "execution_count": 10,
   "id": "18b5fdda-6e15-4e3f-833f-c7eb28561b4b",
   "metadata": {},
   "outputs": [],
   "source": [
    "def obtain_data_seq(file_name, rel_data, lc_folder_name = \"VAST 10s lightcurve\", min_seq_size = 64):\n",
    "    \"\"\"\n",
    "    Obtains the truncated sequences, targets and source information for each source\n",
    "    in a light curve file.\n",
    "\n",
    "    Parameters\n",
    "    ----------\n",
    "    file_name : str\n",
    "        The name of the file with it's extension.\n",
    "\n",
    "    rel_data : pandas dataframe\n",
    "        The dataframe containing the relevant features and\n",
    "        associated peak flux light curve paths.\n",
    "\n",
    "    lc_folder_name : str\n",
    "        The path to the light curve folder\n",
    "\n",
    "    min_seq_size : int\n",
    "        The minimum length of the sequences which restricts how large\n",
    "        the other sequences can be.\n",
    "\n",
    "    Returns\n",
    "    -------\n",
    "    sequences : list\n",
    "        List of all the obtained light curves.\n",
    "\n",
    "    targets : list\n",
    "        List of all the obtained light curve labels.\n",
    "\n",
    "    src_names : list\n",
    "        List of all the obtained source information for the light curves.\n",
    "    \"\"\"\n",
    "    pf_df = pd.read_csv(f\"{lc_folder_name}/{file_name}\")\n",
    "    \n",
    "    split_file = file_name.split(\"_\")\n",
    "    sbid = split_file[0][2:]\n",
    "    beam_id = split_file[1]\n",
    "    sequences = []\n",
    "    src_names = []\n",
    "    targets = []\n",
    "    for src in pf_df.columns[1:]:\n",
    "        label = rel_data[(rel_data[\"name\"] == src) & (rel_data[\"sbid\"] == sbid) & (rel_data[\"beam\"] == beam_id)][\"PSR_Label\"].values\n",
    "        # Need to denoise the signals\n",
    "        val = pf_df[src].values\n",
    "        \n",
    "        # Need to normalise row values\n",
    "        val = normalise_signal(val)\n",
    "        # truncate the rows so all rows are the same size\n",
    "        val = val[:min_seq_size]\n",
    "        val = list(val)\n",
    "        targets.append(label[0])\n",
    "        src_names.append(f\"{sbid}_{beam_id}_{src}\")\n",
    "        sequences.append(val)\n",
    "\n",
    "    return sequences, targets, src_names"
   ]
  },
  {
   "cell_type": "code",
   "execution_count": 11,
   "id": "e1c70041-b0a6-42ed-8e13-a9f48c61cd7f",
   "metadata": {},
   "outputs": [],
   "source": [
    "# Obtain all the time series sequences\n",
    "all_sequences = []\n",
    "all_targets = []\n",
    "all_src_names = []\n",
    "for file in match_files:\n",
    "    sequences, targets, src_names =  obtain_data_seq(file, rel_data, min_seq_size = min_seq_size)\n",
    "    all_sequences.extend(sequences)\n",
    "    all_targets.extend(targets)\n",
    "    all_src_names.extend(src_names)"
   ]
  },
  {
   "cell_type": "code",
   "execution_count": 12,
   "id": "594bcb29-a0bb-4200-962a-557099a8debd",
   "metadata": {},
   "outputs": [
    {
     "data": {
      "text/plain": [
       "(2529, 64)"
      ]
     },
     "execution_count": 12,
     "metadata": {},
     "output_type": "execute_result"
    }
   ],
   "source": [
    "np.array(all_sequences).shape"
   ]
  },
  {
   "cell_type": "code",
   "execution_count": 13,
   "id": "d9c21b2e-cc75-4a02-8674-4b07453672c7",
   "metadata": {},
   "outputs": [],
   "source": [
    "# Turn the sequences, targets and source information into numpy arrays for easier use\n",
    "seq_array = np.array(all_sequences)\n",
    "target_array = np.array(all_targets)\n",
    "src_array = np.array(all_src_names)"
   ]
  },
  {
   "cell_type": "code",
   "execution_count": 14,
   "id": "83995d46-189f-4697-8b1f-e5ee23f28b0c",
   "metadata": {},
   "outputs": [],
   "source": [
    "# Remove nan values\n",
    "target_array = target_array[~np.isnan(seq_array).any(axis=1)]\n",
    "src_array = src_array[~np.isnan(seq_array).any(axis=1)]\n",
    "seq_array = seq_array[~np.isnan(seq_array).any(axis=1),:]"
   ]
  },
  {
   "cell_type": "code",
   "execution_count": 15,
   "id": "ef0eb45f-e7d0-4d38-bc69-7bfeecae3513",
   "metadata": {},
   "outputs": [
    {
     "data": {
      "text/plain": [
       "array([], shape=(0, 2), dtype=int64)"
      ]
     },
     "execution_count": 15,
     "metadata": {},
     "output_type": "execute_result"
    }
   ],
   "source": [
    "# Check for nan values in the sequences\n",
    "np.argwhere(np.isnan(seq_array))"
   ]
  },
  {
   "cell_type": "markdown",
   "id": "7d274cca-67c4-40be-b5e1-e91478af31fb",
   "metadata": {},
   "source": [
    "# Balance The Dataframe"
   ]
  },
  {
   "cell_type": "code",
   "execution_count": 16,
   "id": "eca39fc1-dc61-4539-8dc1-f7608a115cc2",
   "metadata": {},
   "outputs": [],
   "source": [
    "# Obtain all the sequences corresponding to a transient\n",
    "t_seq_array = seq_array[target_array == 1, :]\n",
    "t_src_array = src_array[target_array == 1]\n",
    "n_samples = t_seq_array.shape[0]"
   ]
  },
  {
   "cell_type": "code",
   "execution_count": 17,
   "id": "18188d9e-3529-4e15-bdd5-cb9ce2e2a560",
   "metadata": {},
   "outputs": [],
   "source": [
    "# Obtain all the sequences corresponding to a non-transient\n",
    "f_seq_array = seq_array[target_array == 0, :]\n",
    "f_src_array = src_array[target_array == 0]"
   ]
  },
  {
   "cell_type": "code",
   "execution_count": 18,
   "id": "1985dbdc-744a-461a-8638-54e10816fea9",
   "metadata": {},
   "outputs": [
    {
     "data": {
      "text/plain": [
       "251"
      ]
     },
     "execution_count": 18,
     "metadata": {},
     "output_type": "execute_result"
    }
   ],
   "source": [
    "n_samples"
   ]
  },
  {
   "cell_type": "code",
   "execution_count": 19,
   "id": "3b3a8d95-b036-4938-8e7f-dfff1e9af73a",
   "metadata": {},
   "outputs": [],
   "source": [
    "# Randomly choose indices from sequences where target is 0\n",
    "f_seq_idx = np.array(range(f_seq_array.shape[0]))\n",
    "\n",
    "# Set the random state for reproducibility\n",
    "prng = np.random.RandomState(42)\n",
    "f_chosen_idx = f_seq_idx[prng.choice(f_seq_idx.shape[0], n_samples, replace=False)]"
   ]
  },
  {
   "cell_type": "code",
   "execution_count": 20,
   "id": "350fea5d-4dec-4bd8-a11c-9a478c0b4d37",
   "metadata": {},
   "outputs": [],
   "source": [
    "# obtain a reduced number of non-transient light curves\n",
    "reduced_f_seq_array = f_seq_array[f_chosen_idx,:]\n",
    "reduced_f_src_array = f_src_array[f_chosen_idx]"
   ]
  },
  {
   "cell_type": "code",
   "execution_count": 21,
   "id": "627b22c8-8fcd-4c34-b02a-4cac09edb466",
   "metadata": {},
   "outputs": [
    {
     "data": {
      "image/png": "[encoded data removed]",
      "text/plain": [
       "<Figure size 640x480 with 1 Axes>"
      ]
     },
     "metadata": {},
     "output_type": "display_data"
    }
   ],
   "source": [
    "# Examine one of the non-transient light curves\n",
    "plt.plot(list(range(64)),reduced_f_seq_array[1])\n",
    "plt.show()"
   ]
  },
  {
   "cell_type": "code",
   "execution_count": 22,
   "id": "c45f5e58-d7d5-446c-ae76-f3513c5d69cc",
   "metadata": {},
   "outputs": [],
   "source": [
    "# Obtain the balanced sequences, targets and source information\n",
    "final_seq_array = np.concatenate((reduced_f_seq_array, t_seq_array), axis=0)\n",
    "final_src_array = np.concatenate((reduced_f_src_array, t_src_array), axis=0)\n",
    "final_targets = np.array([0]*reduced_f_seq_array.shape[0]+[1]*t_seq_array.shape[0])"
   ]
  },
  {
   "cell_type": "code",
   "execution_count": 23,
   "id": "f2e3ac8c-b140-4da5-82b9-cf2be0c8120e",
   "metadata": {},
   "outputs": [],
   "source": [
    "# Shuffle the indices of the balanced dataframe \n",
    "final_idx = np.array(range(final_seq_array.shape[0]))\n",
    "final_idx = final_idx[prng.choice(final_idx.shape[0], len(final_idx), replace=False)]"
   ]
  },
  {
   "cell_type": "code",
   "execution_count": 24,
   "id": "4b0a55da-5414-4ead-9ad2-b48801bd12db",
   "metadata": {},
   "outputs": [],
   "source": [
    "# Use the shuffled indices to shuffle the dataframe\n",
    "final_seq_array = final_seq_array[final_idx, :]\n",
    "final_src_array = final_src_array[final_idx]\n",
    "final_targets = final_targets[final_idx]"
   ]
  },
  {
   "cell_type": "code",
   "execution_count": 25,
   "id": "a3e5ac70-87f6-4451-b6a9-68adc718af53",
   "metadata": {},
   "outputs": [],
   "source": [
    "unique, counts = np.unique(final_targets, return_counts = True)"
   ]
  },
  {
   "cell_type": "markdown",
   "id": "ed59174b-ca8b-4df1-97d5-3dd57f0c7ff0",
   "metadata": {},
   "source": [
    "# Split The Data Into Training and Test Sets"
   ]
  },
  {
   "cell_type": "code",
   "execution_count": 26,
   "id": "641ed228-42a0-4cac-b0e3-b5b0456efcda",
   "metadata": {},
   "outputs": [],
   "source": [
    "def train_test_split(sequences, targets, train_prop = 0.7):\n",
    "    \"\"\"\n",
    "    Splits the sequences and targets into training\n",
    "    and testing data according to a particular proportion.\n",
    "\n",
    "    Parameters\n",
    "    ----------\n",
    "    sequences : numpy array\n",
    "        The lightcurves that are going to be split.\n",
    "\n",
    "    targets : numpy array\n",
    "        The labels that are going to be split.\n",
    "\n",
    "    train_prop : float, default 0.7\n",
    "        The proportion of the light curves and labels in\n",
    "        the training set.\n",
    "\n",
    "    Returns\n",
    "    -------\n",
    "    train_sequences : numpy array\n",
    "        The light curves in the training set.\n",
    "\n",
    "    test_sequences : numpy array\n",
    "        The light curves in the test set.\n",
    "\n",
    "    train_targets : numpy array\n",
    "        The labels in the training set.\n",
    "\n",
    "    test_targets : numpy array\n",
    "        The labels in the test set.\n",
    "    \"\"\"\n",
    "    # Obtain the number of training samples\n",
    "    n_train = round(sequences.shape[0] * train_prop)\n",
    "\n",
    "    # Obtaining train and test sequences\n",
    "    train_sequences = sequences[:n_train+1,:]\n",
    "    test_sequences = sequences[n_train+1:,:]\n",
    "\n",
    "    # Obtaining train and test targets\n",
    "    train_targets = targets[:n_train+1]\n",
    "    test_targets = targets[n_train+1:]\n",
    "\n",
    "    return train_sequences, test_sequences, train_targets, test_targets"
   ]
  },
  {
   "cell_type": "code",
   "execution_count": 27,
   "id": "3da18670-5d00-4324-b8cc-baf9ef1a16d0",
   "metadata": {},
   "outputs": [],
   "source": [
    "# Separate sequences and labels into training and testing data\n",
    "train, test, train_targets, test_targets = train_test_split(final_seq_array, final_targets, train_prop = 0.7)"
   ]
  },
  {
   "cell_type": "code",
   "execution_count": 28,
   "id": "6bdc93fb-6f2d-4289-9f4f-e07ba6da141d",
   "metadata": {},
   "outputs": [],
   "source": [
    "train, val, train_targets, val_targets = train_test_split(train, train_targets, train_prop = 0.7)"
   ]
  },
  {
   "cell_type": "code",
   "execution_count": 29,
   "id": "e3825047-846e-462f-856a-2ed50983c453",
   "metadata": {},
   "outputs": [
    {
     "data": {
      "text/plain": [
       "(247, 64)"
      ]
     },
     "execution_count": 29,
     "metadata": {},
     "output_type": "execute_result"
    }
   ],
   "source": [
    "train.shape"
   ]
  },
  {
   "cell_type": "code",
   "execution_count": 30,
   "id": "a91fdaaf-8ef9-4e8b-9dfc-b189564b8c65",
   "metadata": {},
   "outputs": [
    {
     "data": {
      "text/plain": [
       "(150, 64)"
      ]
     },
     "execution_count": 30,
     "metadata": {},
     "output_type": "execute_result"
    }
   ],
   "source": [
    "test.shape"
   ]
  },
  {
   "cell_type": "code",
   "execution_count": 31,
   "id": "4dc64133-092f-4e24-9ea6-62a1dfab8671",
   "metadata": {},
   "outputs": [],
   "source": [
    "unique, counts = np.unique(test_targets, return_counts = True)"
   ]
  },
  {
   "cell_type": "markdown",
   "id": "404b4418-ebce-43bf-a9f4-b43d7b645656",
   "metadata": {},
   "source": [
    "# Implementing The LSTM Model"
   ]
  },
  {
   "cell_type": "code",
   "execution_count": 32,
   "id": "a86c7c55-0cad-4443-8efc-061c59536e34",
   "metadata": {},
   "outputs": [],
   "source": [
    "# Build the LSTM model\n",
    "model = Sequential()\n",
    "model.add(LSTM(256, input_shape=(train.shape[1], 1)))\n",
    "model.add(Dense(1, activation='sigmoid'))"
   ]
  },
  {
   "cell_type": "code",
   "execution_count": 33,
   "id": "5a12c705-a78d-4965-bce0-3c6f2aa92bca",
   "metadata": {
    "scrolled": true
   },
   "outputs": [
    {
     "name": "stdout",
     "output_type": "stream",
     "text": [
      "Epoch 1/100\n",
      "WARNING:tensorflow:Can save best model only with val_acc available, skipping.\n",
      "16/16 [==============================] - 5s 42ms/step - loss: 0.6939 - accuracy: 0.4737 - val_loss: 0.6927 - val_accuracy: 0.5143\n",
      "Epoch 2/100\n",
      "WARNING:tensorflow:Can save best model only with val_acc available, skipping.\n",
      "16/16 [==============================] - 0s 14ms/step - loss: 0.6926 - accuracy: 0.5101 - val_loss: 0.6921 - val_accuracy: 0.5143\n",
      "Epoch 3/100\n",
      "WARNING:tensorflow:Can save best model only with val_acc available, skipping.\n",
      "16/16 [==============================] - 0s 15ms/step - loss: 0.6918 - accuracy: 0.5101 - val_loss: 0.6918 - val_accuracy: 0.5143\n",
      "Epoch 4/100\n",
      "WARNING:tensorflow:Can save best model only with val_acc available, skipping.\n",
      "16/16 [==============================] - 0s 13ms/step - loss: 0.6913 - accuracy: 0.5142 - val_loss: 0.6916 - val_accuracy: 0.5143\n",
      "Epoch 5/100\n",
      "WARNING:tensorflow:Can save best model only with val_acc available, skipping.\n",
      "16/16 [==============================] - 0s 13ms/step - loss: 0.6910 - accuracy: 0.5142 - val_loss: 0.6914 - val_accuracy: 0.5048\n",
      "Epoch 6/100\n",
      "WARNING:tensorflow:Can save best model only with val_acc available, skipping.\n",
      "16/16 [==============================] - 0s 14ms/step - loss: 0.6906 - accuracy: 0.5142 - val_loss: 0.6912 - val_accuracy: 0.4952\n",
      "Epoch 7/100\n",
      "WARNING:tensorflow:Can save best model only with val_acc available, skipping.\n",
      "16/16 [==============================] - 0s 13ms/step - loss: 0.6905 - accuracy: 0.5142 - val_loss: 0.6910 - val_accuracy: 0.5048\n",
      "Epoch 8/100\n",
      "WARNING:tensorflow:Can save best model only with val_acc available, skipping.\n",
      "16/16 [==============================] - 0s 13ms/step - loss: 0.6900 - accuracy: 0.5101 - val_loss: 0.6908 - val_accuracy: 0.4952\n",
      "Epoch 9/100\n",
      "WARNING:tensorflow:Can save best model only with val_acc available, skipping.\n",
      "16/16 [==============================] - 0s 13ms/step - loss: 0.6897 - accuracy: 0.5142 - val_loss: 0.6908 - val_accuracy: 0.5048\n",
      "Epoch 10/100\n",
      "WARNING:tensorflow:Can save best model only with val_acc available, skipping.\n",
      "16/16 [==============================] - 0s 13ms/step - loss: 0.6894 - accuracy: 0.5020 - val_loss: 0.6903 - val_accuracy: 0.4476\n",
      "Epoch 11/100\n",
      "WARNING:tensorflow:Can save best model only with val_acc available, skipping.\n",
      "16/16 [==============================] - 0s 13ms/step - loss: 0.6889 - accuracy: 0.4858 - val_loss: 0.6901 - val_accuracy: 0.4381\n",
      "Epoch 12/100\n",
      "WARNING:tensorflow:Can save best model only with val_acc available, skipping.\n",
      "16/16 [==============================] - 0s 12ms/step - loss: 0.6884 - accuracy: 0.4696 - val_loss: 0.6895 - val_accuracy: 0.4000\n",
      "Epoch 13/100\n",
      "WARNING:tensorflow:Can save best model only with val_acc available, skipping.\n",
      "16/16 [==============================] - 0s 13ms/step - loss: 0.6879 - accuracy: 0.4453 - val_loss: 0.6889 - val_accuracy: 0.3905\n",
      "Epoch 14/100\n",
      "WARNING:tensorflow:Can save best model only with val_acc available, skipping.\n",
      "16/16 [==============================] - 0s 13ms/step - loss: 0.6874 - accuracy: 0.4494 - val_loss: 0.6886 - val_accuracy: 0.4000\n",
      "Epoch 15/100\n",
      "WARNING:tensorflow:Can save best model only with val_acc available, skipping.\n",
      "16/16 [==============================] - 0s 13ms/step - loss: 0.6873 - accuracy: 0.4453 - val_loss: 0.6878 - val_accuracy: 0.3905\n",
      "Epoch 16/100\n",
      "WARNING:tensorflow:Can save best model only with val_acc available, skipping.\n",
      "16/16 [==============================] - 0s 12ms/step - loss: 0.6857 - accuracy: 0.4615 - val_loss: 0.6868 - val_accuracy: 0.4762\n",
      "Epoch 17/100\n",
      "WARNING:tensorflow:Can save best model only with val_acc available, skipping.\n",
      "16/16 [==============================] - 0s 13ms/step - loss: 0.6853 - accuracy: 0.4251 - val_loss: 0.6847 - val_accuracy: 0.4286\n",
      "Epoch 18/100\n",
      "WARNING:tensorflow:Can save best model only with val_acc available, skipping.\n",
      "16/16 [==============================] - 0s 12ms/step - loss: 0.6810 - accuracy: 0.4939 - val_loss: 0.6775 - val_accuracy: 0.5048\n",
      "Epoch 19/100\n",
      "WARNING:tensorflow:Can save best model only with val_acc available, skipping.\n",
      "16/16 [==============================] - 0s 13ms/step - loss: 0.6779 - accuracy: 0.5789 - val_loss: 0.6682 - val_accuracy: 0.6095\n",
      "Epoch 20/100\n",
      "WARNING:tensorflow:Can save best model only with val_acc available, skipping.\n",
      "16/16 [==============================] - 0s 12ms/step - loss: 0.7156 - accuracy: 0.5749 - val_loss: 0.6720 - val_accuracy: 0.6286\n",
      "Epoch 21/100\n",
      "WARNING:tensorflow:Can save best model only with val_acc available, skipping.\n",
      "16/16 [==============================] - 0s 13ms/step - loss: 0.6817 - accuracy: 0.6113 - val_loss: 0.6846 - val_accuracy: 0.6190\n",
      "Epoch 22/100\n",
      "WARNING:tensorflow:Can save best model only with val_acc available, skipping.\n",
      "16/16 [==============================] - 0s 12ms/step - loss: 0.6835 - accuracy: 0.6478 - val_loss: 0.6832 - val_accuracy: 0.6286\n",
      "Epoch 23/100\n",
      "WARNING:tensorflow:Can save best model only with val_acc available, skipping.\n",
      "16/16 [==============================] - 0s 12ms/step - loss: 0.6812 - accuracy: 0.6316 - val_loss: 0.6813 - val_accuracy: 0.5619\n",
      "Epoch 24/100\n",
      "WARNING:tensorflow:Can save best model only with val_acc available, skipping.\n",
      "16/16 [==============================] - 0s 13ms/step - loss: 0.6795 - accuracy: 0.5870 - val_loss: 0.6799 - val_accuracy: 0.5619\n",
      "Epoch 25/100\n",
      "WARNING:tensorflow:Can save best model only with val_acc available, skipping.\n",
      "16/16 [==============================] - 0s 12ms/step - loss: 0.6783 - accuracy: 0.5506 - val_loss: 0.6784 - val_accuracy: 0.5905\n",
      "Epoch 26/100\n",
      "WARNING:tensorflow:Can save best model only with val_acc available, skipping.\n",
      "16/16 [==============================] - 0s 13ms/step - loss: 0.6769 - accuracy: 0.5587 - val_loss: 0.6762 - val_accuracy: 0.5810\n",
      "Epoch 27/100\n",
      "WARNING:tensorflow:Can save best model only with val_acc available, skipping.\n",
      "16/16 [==============================] - 0s 13ms/step - loss: 0.6746 - accuracy: 0.5628 - val_loss: 0.6731 - val_accuracy: 0.6000\n",
      "Epoch 28/100\n",
      "WARNING:tensorflow:Can save best model only with val_acc available, skipping.\n",
      "16/16 [==============================] - 0s 14ms/step - loss: 0.6715 - accuracy: 0.5506 - val_loss: 0.6664 - val_accuracy: 0.6000\n",
      "Epoch 29/100\n",
      "WARNING:tensorflow:Can save best model only with val_acc available, skipping.\n",
      "16/16 [==============================] - 0s 12ms/step - loss: 0.6625 - accuracy: 0.5789 - val_loss: 0.6477 - val_accuracy: 0.6762\n",
      "Epoch 30/100\n",
      "WARNING:tensorflow:Can save best model only with val_acc available, skipping.\n",
      "16/16 [==============================] - 0s 13ms/step - loss: 0.6397 - accuracy: 0.7409 - val_loss: 0.5872 - val_accuracy: 0.8190\n",
      "Epoch 31/100\n",
      "WARNING:tensorflow:Can save best model only with val_acc available, skipping.\n",
      "16/16 [==============================] - 0s 13ms/step - loss: 0.5769 - accuracy: 0.7530 - val_loss: 0.4399 - val_accuracy: 0.8476\n",
      "Epoch 32/100\n",
      "WARNING:tensorflow:Can save best model only with val_acc available, skipping.\n",
      "16/16 [==============================] - 0s 13ms/step - loss: 0.5376 - accuracy: 0.7409 - val_loss: 0.4509 - val_accuracy: 0.8667\n",
      "Epoch 33/100\n",
      "WARNING:tensorflow:Can save best model only with val_acc available, skipping.\n",
      "16/16 [==============================] - 0s 13ms/step - loss: 0.4909 - accuracy: 0.7854 - val_loss: 0.3791 - val_accuracy: 0.9048\n",
      "Epoch 34/100\n",
      "WARNING:tensorflow:Can save best model only with val_acc available, skipping.\n",
      "16/16 [==============================] - 0s 12ms/step - loss: 0.4758 - accuracy: 0.7814 - val_loss: 0.4087 - val_accuracy: 0.8190\n",
      "Epoch 35/100\n",
      "WARNING:tensorflow:Can save best model only with val_acc available, skipping.\n",
      "16/16 [==============================] - 0s 13ms/step - loss: 0.4429 - accuracy: 0.7895 - val_loss: 0.3570 - val_accuracy: 0.8762\n",
      "Epoch 36/100\n",
      "WARNING:tensorflow:Can save best model only with val_acc available, skipping.\n",
      "16/16 [==============================] - 0s 13ms/step - loss: 0.4196 - accuracy: 0.7976 - val_loss: 0.3513 - val_accuracy: 0.8762\n",
      "Epoch 37/100\n",
      "WARNING:tensorflow:Can save best model only with val_acc available, skipping.\n",
      "16/16 [==============================] - 0s 13ms/step - loss: 0.4352 - accuracy: 0.7976 - val_loss: 0.3424 - val_accuracy: 0.8762\n",
      "Epoch 38/100\n",
      "WARNING:tensorflow:Can save best model only with val_acc available, skipping.\n",
      "16/16 [==============================] - 0s 13ms/step - loss: 0.4240 - accuracy: 0.8097 - val_loss: 0.3834 - val_accuracy: 0.8476\n",
      "Epoch 39/100\n",
      "WARNING:tensorflow:Can save best model only with val_acc available, skipping.\n",
      "16/16 [==============================] - 0s 12ms/step - loss: 0.3950 - accuracy: 0.8259 - val_loss: 0.3251 - val_accuracy: 0.8667\n",
      "Epoch 40/100\n",
      "WARNING:tensorflow:Can save best model only with val_acc available, skipping.\n",
      "16/16 [==============================] - 0s 13ms/step - loss: 0.4257 - accuracy: 0.8138 - val_loss: 0.3234 - val_accuracy: 0.8667\n",
      "Epoch 41/100\n",
      "WARNING:tensorflow:Can save best model only with val_acc available, skipping.\n",
      "16/16 [==============================] - 0s 13ms/step - loss: 0.3856 - accuracy: 0.8502 - val_loss: 0.3228 - val_accuracy: 0.8952\n",
      "Epoch 42/100\n",
      "WARNING:tensorflow:Can save best model only with val_acc available, skipping.\n",
      "16/16 [==============================] - 0s 13ms/step - loss: 0.3863 - accuracy: 0.8381 - val_loss: 0.3631 - val_accuracy: 0.8476\n",
      "Epoch 43/100\n",
      "WARNING:tensorflow:Can save best model only with val_acc available, skipping.\n",
      "16/16 [==============================] - 0s 12ms/step - loss: 0.3649 - accuracy: 0.8543 - val_loss: 0.3160 - val_accuracy: 0.8762\n",
      "Epoch 44/100\n",
      "WARNING:tensorflow:Can save best model only with val_acc available, skipping.\n",
      "16/16 [==============================] - 0s 13ms/step - loss: 0.3693 - accuracy: 0.8421 - val_loss: 0.2925 - val_accuracy: 0.8667\n",
      "Epoch 45/100\n",
      "WARNING:tensorflow:Can save best model only with val_acc available, skipping.\n",
      "16/16 [==============================] - 0s 13ms/step - loss: 0.3684 - accuracy: 0.8502 - val_loss: 0.3591 - val_accuracy: 0.8762\n",
      "Epoch 46/100\n",
      "WARNING:tensorflow:Can save best model only with val_acc available, skipping.\n",
      "16/16 [==============================] - 0s 13ms/step - loss: 0.3683 - accuracy: 0.8381 - val_loss: 0.2783 - val_accuracy: 0.8857\n",
      "Epoch 47/100\n",
      "WARNING:tensorflow:Can save best model only with val_acc available, skipping.\n",
      "16/16 [==============================] - 0s 12ms/step - loss: 0.3673 - accuracy: 0.8543 - val_loss: 0.3061 - val_accuracy: 0.8762\n",
      "Epoch 48/100\n",
      "WARNING:tensorflow:Can save best model only with val_acc available, skipping.\n",
      "16/16 [==============================] - 0s 12ms/step - loss: 0.3694 - accuracy: 0.8664 - val_loss: 0.3581 - val_accuracy: 0.8381\n",
      "Epoch 49/100\n",
      "WARNING:tensorflow:Can save best model only with val_acc available, skipping.\n",
      "16/16 [==============================] - 0s 13ms/step - loss: 0.3691 - accuracy: 0.8421 - val_loss: 0.3612 - val_accuracy: 0.8762\n",
      "Epoch 50/100\n",
      "WARNING:tensorflow:Can save best model only with val_acc available, skipping.\n",
      "16/16 [==============================] - 0s 12ms/step - loss: 0.3656 - accuracy: 0.8543 - val_loss: 0.3064 - val_accuracy: 0.8762\n",
      "Epoch 51/100\n",
      "WARNING:tensorflow:Can save best model only with val_acc available, skipping.\n",
      "16/16 [==============================] - 0s 12ms/step - loss: 0.3860 - accuracy: 0.8259 - val_loss: 0.3983 - val_accuracy: 0.8762\n",
      "Epoch 52/100\n",
      "WARNING:tensorflow:Can save best model only with val_acc available, skipping.\n",
      "16/16 [==============================] - 0s 12ms/step - loss: 0.3812 - accuracy: 0.8219 - val_loss: 0.3306 - val_accuracy: 0.8857\n",
      "Epoch 53/100\n",
      "WARNING:tensorflow:Can save best model only with val_acc available, skipping.\n",
      "16/16 [==============================] - 0s 13ms/step - loss: 0.3432 - accuracy: 0.8623 - val_loss: 0.2656 - val_accuracy: 0.8857\n",
      "Epoch 54/100\n",
      "WARNING:tensorflow:Can save best model only with val_acc available, skipping.\n",
      "16/16 [==============================] - 0s 12ms/step - loss: 0.3512 - accuracy: 0.8704 - val_loss: 0.3137 - val_accuracy: 0.8667\n",
      "Epoch 55/100\n",
      "WARNING:tensorflow:Can save best model only with val_acc available, skipping.\n",
      "16/16 [==============================] - 0s 13ms/step - loss: 0.3742 - accuracy: 0.8340 - val_loss: 0.4325 - val_accuracy: 0.8476\n",
      "Epoch 56/100\n",
      "WARNING:tensorflow:Can save best model only with val_acc available, skipping.\n",
      "16/16 [==============================] - 0s 13ms/step - loss: 0.3683 - accuracy: 0.8462 - val_loss: 0.2863 - val_accuracy: 0.8857\n",
      "Epoch 57/100\n",
      "WARNING:tensorflow:Can save best model only with val_acc available, skipping.\n",
      "16/16 [==============================] - 0s 13ms/step - loss: 0.3568 - accuracy: 0.8502 - val_loss: 0.3748 - val_accuracy: 0.8857\n",
      "Epoch 58/100\n",
      "WARNING:tensorflow:Can save best model only with val_acc available, skipping.\n",
      "16/16 [==============================] - 0s 12ms/step - loss: 0.3378 - accuracy: 0.8462 - val_loss: 0.2687 - val_accuracy: 0.8762\n",
      "Epoch 59/100\n",
      "WARNING:tensorflow:Can save best model only with val_acc available, skipping.\n",
      "16/16 [==============================] - 0s 13ms/step - loss: 0.3332 - accuracy: 0.8745 - val_loss: 0.2718 - val_accuracy: 0.8571\n",
      "Epoch 60/100\n",
      "WARNING:tensorflow:Can save best model only with val_acc available, skipping.\n",
      "16/16 [==============================] - 0s 13ms/step - loss: 0.3622 - accuracy: 0.8502 - val_loss: 0.3811 - val_accuracy: 0.8667\n",
      "Epoch 61/100\n",
      "WARNING:tensorflow:Can save best model only with val_acc available, skipping.\n",
      "16/16 [==============================] - 0s 12ms/step - loss: 0.3548 - accuracy: 0.8583 - val_loss: 0.2877 - val_accuracy: 0.8952\n",
      "Epoch 62/100\n",
      "WARNING:tensorflow:Can save best model only with val_acc available, skipping.\n",
      "16/16 [==============================] - 0s 13ms/step - loss: 0.3484 - accuracy: 0.8543 - val_loss: 0.3738 - val_accuracy: 0.8762\n",
      "Epoch 63/100\n",
      "WARNING:tensorflow:Can save best model only with val_acc available, skipping.\n",
      "16/16 [==============================] - 0s 13ms/step - loss: 0.3416 - accuracy: 0.8704 - val_loss: 0.3000 - val_accuracy: 0.8667\n",
      "Epoch 64/100\n",
      "WARNING:tensorflow:Can save best model only with val_acc available, skipping.\n",
      "16/16 [==============================] - 0s 13ms/step - loss: 0.3399 - accuracy: 0.8704 - val_loss: 0.2870 - val_accuracy: 0.8667\n",
      "Epoch 65/100\n",
      "WARNING:tensorflow:Can save best model only with val_acc available, skipping.\n",
      "16/16 [==============================] - 0s 13ms/step - loss: 0.3769 - accuracy: 0.8219 - val_loss: 0.3178 - val_accuracy: 0.8857\n",
      "Epoch 66/100\n",
      "WARNING:tensorflow:Can save best model only with val_acc available, skipping.\n",
      "16/16 [==============================] - 0s 13ms/step - loss: 0.3669 - accuracy: 0.8421 - val_loss: 0.2873 - val_accuracy: 0.8952\n",
      "Epoch 67/100\n",
      "WARNING:tensorflow:Can save best model only with val_acc available, skipping.\n",
      "16/16 [==============================] - 0s 12ms/step - loss: 0.3468 - accuracy: 0.8664 - val_loss: 0.2844 - val_accuracy: 0.8952\n",
      "Epoch 68/100\n",
      "WARNING:tensorflow:Can save best model only with val_acc available, skipping.\n",
      "16/16 [==============================] - 0s 14ms/step - loss: 0.3388 - accuracy: 0.8664 - val_loss: 0.4456 - val_accuracy: 0.8571\n",
      "Epoch 69/100\n",
      "WARNING:tensorflow:Can save best model only with val_acc available, skipping.\n",
      "16/16 [==============================] - 0s 12ms/step - loss: 0.3357 - accuracy: 0.8664 - val_loss: 0.2805 - val_accuracy: 0.8667\n",
      "Epoch 70/100\n",
      "WARNING:tensorflow:Can save best model only with val_acc available, skipping.\n",
      "16/16 [==============================] - 0s 13ms/step - loss: 0.3274 - accuracy: 0.8704 - val_loss: 0.3246 - val_accuracy: 0.8857\n",
      "Epoch 71/100\n",
      "WARNING:tensorflow:Can save best model only with val_acc available, skipping.\n",
      "16/16 [==============================] - 0s 13ms/step - loss: 0.3326 - accuracy: 0.8623 - val_loss: 0.3197 - val_accuracy: 0.8857\n",
      "Epoch 72/100\n",
      "WARNING:tensorflow:Can save best model only with val_acc available, skipping.\n",
      "16/16 [==============================] - 0s 13ms/step - loss: 0.3219 - accuracy: 0.8826 - val_loss: 0.2657 - val_accuracy: 0.8857\n",
      "Epoch 73/100\n",
      "WARNING:tensorflow:Can save best model only with val_acc available, skipping.\n",
      "16/16 [==============================] - 0s 14ms/step - loss: 0.3271 - accuracy: 0.8785 - val_loss: 0.3945 - val_accuracy: 0.8667\n",
      "Epoch 74/100\n",
      "WARNING:tensorflow:Can save best model only with val_acc available, skipping.\n",
      "16/16 [==============================] - 0s 13ms/step - loss: 0.3535 - accuracy: 0.8583 - val_loss: 0.3143 - val_accuracy: 0.8571\n",
      "Epoch 75/100\n",
      "WARNING:tensorflow:Can save best model only with val_acc available, skipping.\n",
      "16/16 [==============================] - 0s 12ms/step - loss: 0.3240 - accuracy: 0.8664 - val_loss: 0.2787 - val_accuracy: 0.8952\n",
      "Epoch 76/100\n",
      "WARNING:tensorflow:Can save best model only with val_acc available, skipping.\n",
      "16/16 [==============================] - 0s 12ms/step - loss: 0.3268 - accuracy: 0.8704 - val_loss: 0.3175 - val_accuracy: 0.8667\n",
      "Epoch 77/100\n",
      "WARNING:tensorflow:Can save best model only with val_acc available, skipping.\n",
      "16/16 [==============================] - 0s 13ms/step - loss: 0.3275 - accuracy: 0.8623 - val_loss: 0.3252 - val_accuracy: 0.8571\n",
      "Epoch 78/100\n",
      "WARNING:tensorflow:Can save best model only with val_acc available, skipping.\n",
      "16/16 [==============================] - 0s 12ms/step - loss: 0.3188 - accuracy: 0.8947 - val_loss: 0.3342 - val_accuracy: 0.8857\n",
      "Epoch 79/100\n",
      "WARNING:tensorflow:Can save best model only with val_acc available, skipping.\n",
      "16/16 [==============================] - 0s 13ms/step - loss: 0.3317 - accuracy: 0.8704 - val_loss: 0.3240 - val_accuracy: 0.8857\n",
      "Epoch 80/100\n",
      "WARNING:tensorflow:Can save best model only with val_acc available, skipping.\n",
      "16/16 [==============================] - 0s 12ms/step - loss: 0.3245 - accuracy: 0.8785 - val_loss: 0.3062 - val_accuracy: 0.8762\n",
      "Epoch 81/100\n",
      "WARNING:tensorflow:Can save best model only with val_acc available, skipping.\n",
      "16/16 [==============================] - 0s 13ms/step - loss: 0.3181 - accuracy: 0.8826 - val_loss: 0.3255 - val_accuracy: 0.8667\n",
      "Epoch 82/100\n",
      "WARNING:tensorflow:Can save best model only with val_acc available, skipping.\n",
      "16/16 [==============================] - 0s 12ms/step - loss: 0.3180 - accuracy: 0.8785 - val_loss: 0.3053 - val_accuracy: 0.8857\n",
      "Epoch 83/100\n",
      "WARNING:tensorflow:Can save best model only with val_acc available, skipping.\n",
      "16/16 [==============================] - 0s 13ms/step - loss: 0.3144 - accuracy: 0.8826 - val_loss: 0.3022 - val_accuracy: 0.8571\n",
      "Epoch 84/100\n",
      "WARNING:tensorflow:Can save best model only with val_acc available, skipping.\n",
      "16/16 [==============================] - 0s 12ms/step - loss: 0.3114 - accuracy: 0.8866 - val_loss: 0.3300 - val_accuracy: 0.8857\n",
      "Epoch 85/100\n",
      "WARNING:tensorflow:Can save best model only with val_acc available, skipping.\n",
      "16/16 [==============================] - 0s 13ms/step - loss: 0.3072 - accuracy: 0.8907 - val_loss: 0.3025 - val_accuracy: 0.8857\n",
      "Epoch 86/100\n",
      "WARNING:tensorflow:Can save best model only with val_acc available, skipping.\n",
      "16/16 [==============================] - 0s 12ms/step - loss: 0.3302 - accuracy: 0.8826 - val_loss: 0.3383 - val_accuracy: 0.8857\n",
      "Epoch 87/100\n",
      "WARNING:tensorflow:Can save best model only with val_acc available, skipping.\n",
      "16/16 [==============================] - 0s 11ms/step - loss: 0.3172 - accuracy: 0.8664 - val_loss: 0.3426 - val_accuracy: 0.8286\n",
      "Epoch 88/100\n",
      "WARNING:tensorflow:Can save best model only with val_acc available, skipping.\n",
      "16/16 [==============================] - 0s 12ms/step - loss: 0.3314 - accuracy: 0.8704 - val_loss: 0.3265 - val_accuracy: 0.8857\n",
      "Epoch 89/100\n",
      "WARNING:tensorflow:Can save best model only with val_acc available, skipping.\n",
      "16/16 [==============================] - 0s 13ms/step - loss: 0.3340 - accuracy: 0.8826 - val_loss: 0.3501 - val_accuracy: 0.8381\n",
      "Epoch 90/100\n",
      "WARNING:tensorflow:Can save best model only with val_acc available, skipping.\n",
      "16/16 [==============================] - 0s 13ms/step - loss: 0.3106 - accuracy: 0.8907 - val_loss: 0.2813 - val_accuracy: 0.8857\n",
      "Epoch 91/100\n",
      "WARNING:tensorflow:Can save best model only with val_acc available, skipping.\n",
      "16/16 [==============================] - 0s 12ms/step - loss: 0.3152 - accuracy: 0.8704 - val_loss: 0.4300 - val_accuracy: 0.8476\n",
      "Epoch 92/100\n",
      "WARNING:tensorflow:Can save best model only with val_acc available, skipping.\n",
      "16/16 [==============================] - 0s 12ms/step - loss: 0.3284 - accuracy: 0.8907 - val_loss: 0.3117 - val_accuracy: 0.8667\n",
      "Epoch 93/100\n",
      "WARNING:tensorflow:Can save best model only with val_acc available, skipping.\n",
      "16/16 [==============================] - 0s 13ms/step - loss: 0.3165 - accuracy: 0.8664 - val_loss: 0.3542 - val_accuracy: 0.8667\n",
      "Epoch 94/100\n",
      "WARNING:tensorflow:Can save best model only with val_acc available, skipping.\n",
      "16/16 [==============================] - 0s 12ms/step - loss: 0.3509 - accuracy: 0.8623 - val_loss: 0.3074 - val_accuracy: 0.8857\n",
      "Epoch 95/100\n",
      "WARNING:tensorflow:Can save best model only with val_acc available, skipping.\n",
      "16/16 [==============================] - 0s 12ms/step - loss: 0.3234 - accuracy: 0.8745 - val_loss: 0.2934 - val_accuracy: 0.8667\n",
      "Epoch 96/100\n",
      "WARNING:tensorflow:Can save best model only with val_acc available, skipping.\n",
      "16/16 [==============================] - 0s 12ms/step - loss: 0.3244 - accuracy: 0.8583 - val_loss: 0.5052 - val_accuracy: 0.7714\n",
      "Epoch 97/100\n",
      "WARNING:tensorflow:Can save best model only with val_acc available, skipping.\n",
      "16/16 [==============================] - 0s 12ms/step - loss: 0.4096 - accuracy: 0.8300 - val_loss: 0.3077 - val_accuracy: 0.8762\n",
      "Epoch 98/100\n",
      "WARNING:tensorflow:Can save best model only with val_acc available, skipping.\n",
      "16/16 [==============================] - 0s 12ms/step - loss: 0.3267 - accuracy: 0.8785 - val_loss: 0.2636 - val_accuracy: 0.8952\n",
      "Epoch 99/100\n",
      "WARNING:tensorflow:Can save best model only with val_acc available, skipping.\n",
      "16/16 [==============================] - 0s 12ms/step - loss: 0.3270 - accuracy: 0.8745 - val_loss: 0.3214 - val_accuracy: 0.8857\n",
      "Epoch 100/100\n",
      "WARNING:tensorflow:Can save best model only with val_acc available, skipping.\n",
      "16/16 [==============================] - 0s 14ms/step - loss: 0.3100 - accuracy: 0.8826 - val_loss: 0.3360 - val_accuracy: 0.8667\n"
     ]
    }
   ],
   "source": [
    "# Use the Adam optimiser, track the validation accuracy and compile the model\n",
    "adam = Adam(learning_rate=0.0001)\n",
    "chk = ModelCheckpoint('best_model.pkl', monitor='val_acc', save_best_only=True, mode='max', verbose=1)\n",
    "model.compile(loss='binary_crossentropy', optimizer=adam, metrics=['accuracy'])\n",
    "history = model.fit(train, train_targets, epochs=100, batch_size=16, callbacks=[chk], validation_data=(val, val_targets))"
   ]
  },
  {
   "cell_type": "code",
   "execution_count": 34,
   "id": "59946b0a-38a5-4218-8740-41b6633fea7c",
   "metadata": {},
   "outputs": [
    {
     "data": {
      "image/png": "[encoded data removed]",
      "text/plain": [
       "<Figure size 640x480 with 1 Axes>"
      ]
     },
     "metadata": {},
     "output_type": "display_data"
    }
   ],
   "source": [
    "plt.plot(history.history['loss'],'b-')\n",
    "plt.plot(history.history['val_loss'],'orange')\n",
    "plt.legend(['loss', 'val_loss'])\n",
    "plt.xlabel('Epoch')\n",
    "plt.ylabel('Loss')\n",
    "plt.title('Model Loss Vs. Epochs')\n",
    "plt.show()"
   ]
  },
  {
   "cell_type": "code",
   "execution_count": 35,
   "id": "0546c5dd-8c52-4b81-8f72-a90a27856389",
   "metadata": {},
   "outputs": [
    {
     "data": {
      "image/png": "[encoded data removed]",
      "text/plain": [
       "<Figure size 640x480 with 1 Axes>"
      ]
     },
     "metadata": {},
     "output_type": "display_data"
    }
   ],
   "source": [
    "plt.plot(history.history['accuracy'])\n",
    "plt.plot(history.history['val_accuracy'],'orange')\n",
    "plt.legend(['accuracy', 'val_accuracy'])\n",
    "plt.xlabel('Epoch')\n",
    "plt.ylabel('Accuracy')\n",
    "plt.title('Model Accuracy Vs. Epochs')\n",
    "plt.show()"
   ]
  },
  {
   "cell_type": "markdown",
   "id": "284e7e12-c63e-409b-915e-3a15440c0425",
   "metadata": {},
   "source": [
    "Classifying the light curves time series data provides accuracies consistently in the high 80% range and losses approximately as low as 0.3. This is a significant improvement over the usage of convolutional neural networks on particular image slices. It may be worth investigating other time series classification methods such as ROCKET to determine if better metrics may be obtained."
   ]
  },
  {
   "cell_type": "code",
   "execution_count": null,
   "id": "800a8bdf-2d5a-445d-99f3-fd8e90e15c2b",
   "metadata": {},
   "outputs": [],
   "source": []
  }
 ],
 "metadata": {
  "kernelspec": {
   "display_name": "Python 3 (ipykernel)",
   "language": "python",
   "name": "python3"
  },
  "language_info": {
   "codemirror_mode": {
    "name": "ipython",
    "version": 3
   },
   "file_extension": ".py",
   "mimetype": "text/x-python",
   "name": "python",
   "nbconvert_exporter": "python",
   "pygments_lexer": "ipython3",
   "version": "3.10.16"
  }
 },
 "nbformat": 4,
 "nbformat_minor": 5
}
