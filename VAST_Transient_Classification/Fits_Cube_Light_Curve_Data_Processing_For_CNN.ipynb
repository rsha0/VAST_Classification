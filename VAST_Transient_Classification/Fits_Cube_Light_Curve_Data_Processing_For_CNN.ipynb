{
 "cells": [
  {
   "cell_type": "markdown",
   "id": "9cfc6e5f-461a-4e40-84bf-16246642c091",
   "metadata": {},
   "source": [
    "# Short Description of Method and Purpose"
   ]
  },
  {
   "cell_type": "markdown",
   "id": "aca10321-400d-4a61-a7ff-129592952203",
   "metadata": {},
   "source": [
    "To address the shortcomings of the decision tree, namely its inability to predict outlier transients with a larger \"deep_sep_arcsec\" than the other transients, it may be useful to use the image cubes of the available sources which contain images of each time point of an observation and classify these images based on the presence or absence of transient phenomena. \n",
    "\n",
    "The idea would be to take image slices which have a peak flux above a certain threshold when compared to its corresponding local root mean squared value then assign the images with either a label of 1 (if they belong to a transient source) or 2 (if they do not belong to a transient source). The first case is a true positive and the second case is a false positive. Both are positives since they satisfy the peak flux threshold however whether they are true or false depends on whether these images belong to an actual transient source or a non-transients source. All image slices which do not pass the peak flux threshold will be assigned a value of 0 and be called non-detections.\n",
    "\n",
    "The reason we focus on images which have a peak flux value above the threshold is because transient phenomena are characterised by variations in brightness. Here we assume that if the peak flux surpasses a certain threshold, then the transient feature may have appeared."
   ]
  },
  {
   "cell_type": "markdown",
   "id": "aa92976d-481d-4b57-9b94-c3697002465f",
   "metadata": {},
   "source": [
    "# Import The Relevant Libraries"
   ]
  },
  {
   "cell_type": "code",
   "execution_count": 1,
   "id": "ef4429fd-1927-48af-b7f8-3003a36dcbcc",
   "metadata": {},
   "outputs": [],
   "source": [
    "import numpy as np\n",
    "import pandas as pd\n",
    "import matplotlib.image as mpimg\n",
    "from astropy.io import fits\n",
    "from matplotlib import pyplot as plt\n",
    "import cv2\n",
    "import os"
   ]
  },
  {
   "cell_type": "markdown",
   "id": "0bb90552-52d7-49da-ba38-a5d26b0134b1",
   "metadata": {},
   "source": [
    "# Obtain and Process The VAST Data"
   ]
  },
  {
   "cell_type": "code",
   "execution_count": 2,
   "id": "63bf9806-aef3-4b75-86eb-72e7c832caf0",
   "metadata": {},
   "outputs": [],
   "source": [
    "t_data = pd.read_csv(\"All_Transient_Data.csv\")"
   ]
  },
  {
   "cell_type": "code",
   "execution_count": 3,
   "id": "b67409ac-8215-4134-b0e4-bf3743b720a4",
   "metadata": {},
   "outputs": [
    {
     "data": {
      "text/plain": [
       "Index(['source_id', 'name', 'ra_str', 'dec_str', 'ra', 'dec', 'chi_square',\n",
       "       'chi_square_log_sigma', 'chi_square_sigma', 'peak_map',\n",
       "       'peak_map_log_sigma', 'peak_map_sigma', 'gaussian_map',\n",
       "       'gaussian_map_sigma', 'std_map', 'md_deep', 'deep_sep_arcsec',\n",
       "       'deep_num', 'bright_sep_arcmin', 'beam_sep_deg', 'beam_ra', 'beam_dec',\n",
       "       'deep_name', 'deep_ra_deg', 'deep_dec_deg', 'deep_peak_flux',\n",
       "       'deep_int_flux', 'priority', 'lightcurve', 'deepcutout', 'slices',\n",
       "       'chisq_map2', 'peak_map2', 'beam', 'sbid', 'PSR_name', 'PSR_sep',\n",
       "       'dyspec', 'KNOWN_name', 'KNOWN_sep', 'PSR_name_int', 'KNOWN_name_int',\n",
       "       'PSR_Label'],\n",
       "      dtype='object')"
      ]
     },
     "execution_count": 3,
     "metadata": {},
     "output_type": "execute_result"
    }
   ],
   "source": [
    "t_data.columns"
   ]
  },
  {
   "cell_type": "code",
   "execution_count": 4,
   "id": "275b17dd-b64f-4b3e-bb1b-b98b08078cbc",
   "metadata": {},
   "outputs": [],
   "source": [
    "rel_data = t_data[[\"sbid\",\"beam\",\"name\",\"PSR_Label\"]]"
   ]
  },
  {
   "cell_type": "code",
   "execution_count": 5,
   "id": "d3d7338e-db37-43a5-8c36-9b2761e48a69",
   "metadata": {},
   "outputs": [
    {
     "data": {
      "text/html": [
       "<div>\n",
       "<style scoped>\n",
       "    .dataframe tbody tr th:only-of-type {\n",
       "        vertical-align: middle;\n",
       "    }\n",
       "\n",
       "    .dataframe tbody tr th {\n",
       "        vertical-align: top;\n",
       "    }\n",
       "\n",
       "    .dataframe thead th {\n",
       "        text-align: right;\n",
       "    }\n",
       "</style>\n",
       "<table border=\"1\" class=\"dataframe\">\n",
       "  <thead>\n",
       "    <tr style=\"text-align: right;\">\n",
       "      <th></th>\n",
       "      <th>sbid</th>\n",
       "      <th>beam</th>\n",
       "      <th>name</th>\n",
       "      <th>PSR_Label</th>\n",
       "    </tr>\n",
       "  </thead>\n",
       "  <tbody>\n",
       "    <tr>\n",
       "      <th>0</th>\n",
       "      <td>49588</td>\n",
       "      <td>beam00</td>\n",
       "      <td>J163259.92-501507.22</td>\n",
       "      <td>1</td>\n",
       "    </tr>\n",
       "    <tr>\n",
       "      <th>1</th>\n",
       "      <td>49588</td>\n",
       "      <td>beam00</td>\n",
       "      <td>J163048.20-491129.49</td>\n",
       "      <td>0</td>\n",
       "    </tr>\n",
       "    <tr>\n",
       "      <th>2</th>\n",
       "      <td>49588</td>\n",
       "      <td>beam04</td>\n",
       "      <td>J162710.82-481537.04</td>\n",
       "      <td>0</td>\n",
       "    </tr>\n",
       "    <tr>\n",
       "      <th>3</th>\n",
       "      <td>49588</td>\n",
       "      <td>beam05</td>\n",
       "      <td>J163250.42-482506.53</td>\n",
       "      <td>0</td>\n",
       "    </tr>\n",
       "    <tr>\n",
       "      <th>4</th>\n",
       "      <td>49588</td>\n",
       "      <td>beam06</td>\n",
       "      <td>J164019.07-490047.32</td>\n",
       "      <td>0</td>\n",
       "    </tr>\n",
       "  </tbody>\n",
       "</table>\n",
       "</div>"
      ],
      "text/plain": [
       "    sbid    beam                  name  PSR_Label\n",
       "0  49588  beam00  J163259.92-501507.22          1\n",
       "1  49588  beam00  J163048.20-491129.49          0\n",
       "2  49588  beam04  J162710.82-481537.04          0\n",
       "3  49588  beam05  J163250.42-482506.53          0\n",
       "4  49588  beam06  J164019.07-490047.32          0"
      ]
     },
     "execution_count": 5,
     "metadata": {},
     "output_type": "execute_result"
    }
   ],
   "source": [
    "rel_data.head()"
   ]
  },
  {
   "cell_type": "code",
   "execution_count": 6,
   "id": "282e6a85-2a52-4477-95f4-1c7a51e0f7c3",
   "metadata": {},
   "outputs": [],
   "source": [
    "# Remove all null_values\n",
    "rel_data = rel_data.dropna(how='any',axis=0)"
   ]
  },
  {
   "cell_type": "code",
   "execution_count": 7,
   "id": "f4147245-800e-4b08-b401-dc162e326526",
   "metadata": {},
   "outputs": [],
   "source": [
    "rel_data[\"sbid\"] = rel_data[\"sbid\"].astype(str)"
   ]
  },
  {
   "cell_type": "code",
   "execution_count": 8,
   "id": "1b1b2855-8dac-4740-81fa-4c2a9c3ed1af",
   "metadata": {},
   "outputs": [
    {
     "data": {
      "text/plain": [
       "array(['beam00', 'beam04', 'beam05', 'beam06', 'beam14', 'beam15',\n",
       "       'beam17', 'beam32', 'beam07', 'beam08', 'beam11', 'beam12',\n",
       "       'beam13', 'beam28', 'beam29', 'beam30', 'beam33', 'beam09',\n",
       "       'beam23', 'beam24', 'beam18', 'beam19', 'beam01', 'beam02',\n",
       "       'beam16', 'beam27', 'beam26', 'beam31', 'beam03', 'beam34',\n",
       "       'beam35', 'beam20', 'beam22', 'beam10', 'beam21', 'beam25'],\n",
       "      dtype=object)"
      ]
     },
     "execution_count": 8,
     "metadata": {},
     "output_type": "execute_result"
    }
   ],
   "source": [
    "rel_data[\"beam\"].unique()"
   ]
  },
  {
   "cell_type": "code",
   "execution_count": 9,
   "id": "6fc1f1df-fb5d-4dbc-9654-c344df008eab",
   "metadata": {},
   "outputs": [],
   "source": [
    "rel_data[\"fits_path\"] = \"SB\"+rel_data[\"sbid\"]+\"_\"+rel_data[\"beam\"]+\"_slices_\"+rel_data[\"name\"]+\".fits\""
   ]
  },
  {
   "cell_type": "code",
   "execution_count": 10,
   "id": "98172db7-6fd5-4ad8-8727-9f1b5fe4b5cc",
   "metadata": {},
   "outputs": [
    {
     "data": {
      "text/plain": [
       "7709    SB63496_beam22_slices_J180347.53-173601.45.fits\n",
       "7710    SB63496_beam22_slices_J180340.02-173436.34.fits\n",
       "7711    SB63496_beam22_slices_J180328.51-172858.65.fits\n",
       "7712    SB63496_beam22_slices_J180335.67-173021.27.fits\n",
       "7713    SB63496_beam22_slices_J180347.87-173801.45.fits\n",
       "Name: fits_path, dtype: object"
      ]
     },
     "execution_count": 10,
     "metadata": {},
     "output_type": "execute_result"
    }
   ],
   "source": [
    "rel_data[\"fits_path\"].tail()"
   ]
  },
  {
   "cell_type": "markdown",
   "id": "eeb9927f-2c59-411f-8377-a170880729ff",
   "metadata": {},
   "source": [
    "## Obtain Relevant Images Slices"
   ]
  },
  {
   "cell_type": "markdown",
   "id": "6a5c9191-0b4e-40f8-8ca5-c5a7c8bbacbc",
   "metadata": {},
   "source": [
    "### Obtain a Balanced Light Curve Dataset"
   ]
  },
  {
   "cell_type": "code",
   "execution_count": 11,
   "id": "4d498e38-3ade-4173-ba6d-8ea5639889a8",
   "metadata": {},
   "outputs": [],
   "source": [
    "def obtain_src_name(avail_fits, chosen_idx):\n",
    "    \"\"\"\n",
    "    Used to obtain the source name and other details of particular fits paths.\n",
    "\n",
    "    Parameters\n",
    "    ----------\n",
    "    avail_fits : list\n",
    "        List of strings of fits paths\n",
    "\n",
    "    chosen_idx : int\n",
    "        Index of particular fits path in avail_fits\n",
    "\n",
    "    Returns\n",
    "    -------\n",
    "    src_name : str\n",
    "        Source name of fits path.\n",
    "\n",
    "    src_details : list\n",
    "        List of strings containing SBID, beam ID and source name\n",
    "    \"\"\"\n",
    "    \n",
    "    src_details = avail_fits[chosen_idx].split(\"/\")[1].split(\"_\")\n",
    "    src_name = src_details[-1][:-5]\n",
    "    return src_name, src_details"
   ]
  },
  {
   "cell_type": "code",
   "execution_count": 12,
   "id": "472e279d-a947-46c7-8ae7-34ae6ca0f7de",
   "metadata": {},
   "outputs": [],
   "source": [
    "def obtain_lc_df(lc_folder_name, src_name, src_details, chosen_idx, fits_labels):\n",
    "    \"\"\"\n",
    "    Used to obtain a dataframe for the light curve information.\n",
    "\n",
    "    Parameters\n",
    "    ----------\n",
    "    lc_folder_name : float\n",
    "        Path to light curve folder\n",
    "\n",
    "    src_name : float\n",
    "        Source name\n",
    "\n",
    "    src_details : list\n",
    "        Source details\n",
    "\n",
    "    chosen_idx : int\n",
    "        Index of label of interest in the labels\n",
    "\n",
    "    fits_labels : list\n",
    "        List of strings of labels for the fits data.\n",
    "\n",
    "    Returns\n",
    "    -------\n",
    "    lc_df : pandas dataframe\n",
    "        A dataframe containing \"Time\", \"Time_Idx\", \"peak_flux\", \"local_rms\", \"Above_Threshold\" and \"Source_Info\" columns\n",
    "    \"\"\"\n",
    "    \n",
    "    lc_local_rms = pd.read_csv(f\"{lc_folder_name}/{src_details[0]}_{src_details[1]}_lightcurve_local_rms.csv\")\n",
    "    lc_local_rms = lc_local_rms.rename(columns = {src_name: \"local_rms\"})\n",
    "    lc_peak_flux = pd.read_csv(f\"{lc_folder_name}/{src_details[0]}_{src_details[1]}_lightcurve_peak_flux.csv\")\n",
    "    lc_peak_flux = lc_peak_flux.rename(columns = {src_name: \"peak_flux\"})\n",
    "    lc_df = pd.merge(lc_local_rms, lc_peak_flux, on=\"Time\")\n",
    "    # Remove unnecessary columns\n",
    "    lc_df = lc_df[[\"Time\", \"peak_flux\", \"local_rms\"]]\n",
    "    # Obtain indices of each time value so getting fits image is easier.\n",
    "    lc_df[\"Time_Idx\"] = lc_df.index\n",
    "\n",
    "    # Drop rows with null values\n",
    "    lc_df = lc_df.dropna()\n",
    "\n",
    "    # Remove rows where local_rms = 0\n",
    "    lc_df = lc_df[lc_df[\"local_rms\"] != 0].reset_index(drop=True) #### NOT SURE IF THIS IS ALLOWED\n",
    "\n",
    "    # Obtaining Labels\n",
    "    threshold = 5\n",
    "    # (peak flux - mean peak flux) / local rms > threshold\n",
    "    \n",
    "    for row in lc_df:\n",
    "        if fits_labels[chosen_idx] == 1:\n",
    "            # 1 is true positive and 0 is non-detection\n",
    "            lc_df[\"Above_Threshold\"] = np.where((np.abs(lc_df[\"peak_flux\"]-lc_df[\"peak_flux\"].mean())/ lc_df[\"local_rms\"] > threshold), 1, 0)\n",
    "        else:\n",
    "            # 2 is false positive and 0 is non-detection\n",
    "            lc_df[\"Above_Threshold\"] = np.where((np.abs(lc_df[\"peak_flux\"]-lc_df[\"peak_flux\"].mean())/ lc_df[\"local_rms\"] > threshold), 2, 0)\n",
    "    lc_df[\"Source_Info\"] = f\"{src_details[0]}_{src_details[1]}_{src_name}\"\n",
    "    return lc_df"
   ]
  },
  {
   "cell_type": "code",
   "execution_count": 13,
   "id": "0268a82f-2fc4-4de6-9f53-a74785b86aff",
   "metadata": {},
   "outputs": [],
   "source": [
    "def obtain_balanced_lc_df(lc_df, random_state = 43, ratio_d_to_nd = 2):\n",
    "    \"\"\"\n",
    "    Used to obtain a balanced dataframe whereby the ratio of true positive\n",
    "    or false positive candidates to non detections are in a ratio_d_to_nd:1 ratio.\n",
    "\n",
    "    Parameters\n",
    "    ----------\n",
    "    lc_df : pandas dataframe\n",
    "        A dataframe with relevant light curve information.\n",
    "\n",
    "    random_state : int, default 43\n",
    "        The random state used for reproducibility.\n",
    "        \n",
    "    ratio_d_to_nd : int, default 2\n",
    "        The ratio of positives (either true or false) to non detections.\n",
    "        \n",
    "    Returns\n",
    "    -------\n",
    "    balanced_lc_df : pandas dataframe\n",
    "        A light curve dataframe whereby the positives and non-detections \n",
    "        are balanced according to the given ratio.\n",
    "\n",
    "    \"\"\"\n",
    "    \n",
    "    # To adjust the ratio between positives and non-detection, change num_cands\n",
    "    if sum(lc_df[\"Above_Threshold\"] != 0) <=  sum(lc_df[\"Above_Threshold\"] == 0):\n",
    "        num_cands = sum(lc_df[\"Above_Threshold\"] != 0)\n",
    "        nd_lc_data = lc_df[lc_df[\"Above_Threshold\"] == 0]\n",
    "        reduced_nd_lc_data = nd_lc_data.sample(n=round(num_cands/ratio_d_to_nd), random_state = random_state, axis = 0) # Want 2:1 ratio between detections and non-detections so divide num_cands by 2\n",
    "        balanced_lc_df = pd.concat([lc_df[lc_df[\"Above_Threshold\"] != 0],reduced_nd_lc_data], ignore_index=True, axis = 0)\n",
    "    else:\n",
    "        num_cands = sum(lc_df[\"Above_Threshold\"] == 0)\n",
    "        lc_data = lc_df[lc_df[\"Above_Threshold\"] != 0]\n",
    "        reduced_lc_data = lc_data.sample(n=num_cands, random_state = random_state, axis = 0)\n",
    "        nd_lc_data = lc_df[lc_df[\"Above_Threshold\"] == 0]\n",
    "        reduced_nd_lc_data = nd_lc_data.sample(n=round(num_cands/ratio_d_to_nd), random_state = random_state, axis = 0)  # Want 2:1 ratio between detections and non-detections so divide num_cands by 2\n",
    "        balanced_lc_df = pd.concat([reduced_lc_data, reduced_nd_lc_data], ignore_index=True, axis = 0)\n",
    "    return balanced_lc_df "
   ]
  },
  {
   "cell_type": "markdown",
   "id": "be235a43-0bab-4368-ad2f-2bed3b752842",
   "metadata": {},
   "source": [
    "#### Finding Number of Occurrences of Each Label"
   ]
  },
  {
   "cell_type": "code",
   "execution_count": 14,
   "id": "26523695-6889-45fb-a5a1-8d9a1b608171",
   "metadata": {},
   "outputs": [],
   "source": [
    "lc_folder_name = \"VAST 10s lightcurve\""
   ]
  },
  {
   "cell_type": "code",
   "execution_count": 15,
   "id": "05294e26-8655-44c2-81a7-658a6826f51a",
   "metadata": {},
   "outputs": [],
   "source": [
    "fits_folder_name = \"VAST 10s fitscube\""
   ]
  },
  {
   "cell_type": "code",
   "execution_count": 16,
   "id": "f3360442-0460-4580-a7fc-b0b3ffd5b368",
   "metadata": {},
   "outputs": [],
   "source": [
    "# List of files in fits_folder and the actual data\n",
    "avail_fits = []\n",
    "# List of real candidates\n",
    "fits_labels = []\n",
    "for file in os.listdir(fits_folder_name):\n",
    "    if file in rel_data[\"fits_path\"].unique():\n",
    "        avail_fits.append(fits_folder_name+\"/\"+file)\n",
    "        fits_labels.append(rel_data[rel_data[\"fits_path\"]==file][\"PSR_Label\"].item())"
   ]
  },
  {
   "cell_type": "code",
   "execution_count": 17,
   "id": "ad9038c0-f886-498d-ad26-1f3d189e9aaf",
   "metadata": {},
   "outputs": [],
   "source": [
    "def obtain_positive_counts(avail_fits, label):\n",
    "    \"\"\"\n",
    "    Counts the total number of positives, either\n",
    "    true or false positives.\n",
    "\n",
    "    Parameters\n",
    "    ----------\n",
    "    avail_fits : list\n",
    "        List of strings of the available fits paths\n",
    "    \n",
    "    label : int\n",
    "        Either 1 for true positive or 0 for false positive\n",
    "\n",
    "    Returns\n",
    "    -------\n",
    "    idx_count_dict : dict\n",
    "        Dictionary which maps the indices of the fits paths in the avail_fits\n",
    "        to the count of positives for the associated light curve dataframe\n",
    "\n",
    "    total : int\n",
    "        Total number of positives\n",
    "    \"\"\"\n",
    "    \n",
    "    #label = 1 for true positive and label = 0  for false positive\n",
    "    chosen_idx_ls = [i for i,val in enumerate(fits_labels) if val==label]\n",
    "    idx_count_dict = {}\n",
    "    total = 0\n",
    "    for chosen_idx in chosen_idx_ls:\n",
    "        src_name, src_details = obtain_src_name(avail_fits, chosen_idx)\n",
    "        if os.path.isfile(f\"{lc_folder_name}/{src_details[0]}_{src_details[1]}_lightcurve_local_rms.csv\"):\n",
    "            lc_df = obtain_lc_df(lc_folder_name, src_name, src_details, chosen_idx, fits_labels)\n",
    "            balanced_lc_df = obtain_balanced_lc_df(lc_df)\n",
    "            new_count = sum(balanced_lc_df[\"Above_Threshold\"] != 0)\n",
    "            idx_count_dict[chosen_idx] = new_count\n",
    "            total += new_count\n",
    "        else:\n",
    "            continue\n",
    "    return idx_count_dict, total"
   ]
  },
  {
   "cell_type": "code",
   "execution_count": 18,
   "id": "d48af440-7377-4ef8-8081-f6784efaa596",
   "metadata": {},
   "outputs": [],
   "source": [
    "idx_fp_count_dict, total_fp = obtain_positive_counts(avail_fits, 0)"
   ]
  },
  {
   "cell_type": "code",
   "execution_count": 19,
   "id": "116c4ba2-0fbb-4cb3-b758-c59c8364c21f",
   "metadata": {},
   "outputs": [],
   "source": [
    "idx_tp_count_dict, total_tp = obtain_positive_counts(avail_fits, 1)"
   ]
  },
  {
   "cell_type": "code",
   "execution_count": 20,
   "id": "874228b7-f5a8-418e-a88c-f6afa1b5af67",
   "metadata": {},
   "outputs": [],
   "source": [
    "tp_src_idx = list(idx_tp_count_dict.keys())"
   ]
  },
  {
   "cell_type": "code",
   "execution_count": 21,
   "id": "a658b603-7925-40c1-a12b-4e680337ae26",
   "metadata": {},
   "outputs": [
    {
     "data": {
      "text/plain": [
       "1611"
      ]
     },
     "execution_count": 21,
     "metadata": {},
     "output_type": "execute_result"
    }
   ],
   "source": [
    "total_tp"
   ]
  },
  {
   "cell_type": "code",
   "execution_count": 22,
   "id": "483e0943-3192-4f3c-9069-bc396d566d54",
   "metadata": {},
   "outputs": [
    {
     "data": {
      "text/plain": [
       "18895"
      ]
     },
     "execution_count": 22,
     "metadata": {},
     "output_type": "execute_result"
    }
   ],
   "source": [
    "total_fp"
   ]
  },
  {
   "cell_type": "markdown",
   "id": "e53ee82d-cf40-4e81-beb3-02bc300fc47b",
   "metadata": {},
   "source": [
    "**Since there are less true positives than false positives, we must obtain a random subset of the false positives so that the number\n",
    "of image slices for true and false positives are approximately the same.**"
   ]
  },
  {
   "cell_type": "code",
   "execution_count": 23,
   "id": "44cab33a-70f2-416a-a27a-fd7d86011073",
   "metadata": {},
   "outputs": [
    {
     "name": "stdout",
     "output_type": "stream",
     "text": [
      "1615\n"
     ]
    }
   ],
   "source": [
    "# obtain the indices of the relevant fits sources for false positives.\n",
    "total = 0\n",
    "reduced_fp_src_idx = []\n",
    "thresh = 5\n",
    "np.random.seed(2020)\n",
    "while total < total_tp:\n",
    "    rand_idx = np.random.choice(list(idx_fp_count_dict.keys()))\n",
    "    new_count = idx_fp_count_dict[rand_idx]\n",
    "    if total + new_count > total_tp + thresh:\n",
    "        continue\n",
    "    else:\n",
    "        total += new_count\n",
    "        reduced_fp_src_idx.append(rand_idx)\n",
    "print(total)"
   ]
  },
  {
   "cell_type": "code",
   "execution_count": 24,
   "id": "b1f4f5c5-8ed2-4f06-b481-d41c489d6dc1",
   "metadata": {},
   "outputs": [
    {
     "data": {
      "text/plain": [
       "185"
      ]
     },
     "execution_count": 24,
     "metadata": {},
     "output_type": "execute_result"
    }
   ],
   "source": [
    "len(reduced_fp_src_idx)"
   ]
  },
  {
   "cell_type": "code",
   "execution_count": 25,
   "id": "44f54130-2ffe-41e4-b167-f1cc2698d0ac",
   "metadata": {},
   "outputs": [
    {
     "data": {
      "text/plain": [
       "252"
      ]
     },
     "execution_count": 25,
     "metadata": {},
     "output_type": "execute_result"
    }
   ],
   "source": [
    "len(tp_src_idx)"
   ]
  },
  {
   "cell_type": "markdown",
   "id": "41f15bd8-e2f2-4ae7-b472-a45c0eac7e8c",
   "metadata": {},
   "source": [
    "#### Concatenate the false positives and true positives into 1 dataframe"
   ]
  },
  {
   "cell_type": "code",
   "execution_count": 26,
   "id": "e350244e-424d-4dc0-9b45-da5fe5241318",
   "metadata": {},
   "outputs": [],
   "source": [
    "def stack_balanced_df(avail_fits, src_idx):\n",
    "    \"\"\"\n",
    "    Stacks all the balanced dataframes obtained\n",
    "    from the light curves of all the relevant fits paths\n",
    "    into 1 dataframe.\n",
    "    \n",
    "    Parameters\n",
    "    ----------\n",
    "    avail_fits : list\n",
    "        List of strings of the available fits paths\n",
    "    \n",
    "    src_idx : list\n",
    "        List of integers of indices for fits paths in avail_fits\n",
    "\n",
    "    Returns\n",
    "    -------\n",
    "    balanced_lc_df : pandas dataframe\n",
    "        A dataframe containing the data of all the other balanced dataframes\n",
    "        of the relevant light curves.\n",
    "    \"\"\"\n",
    "    \n",
    "    src_name, src_details = obtain_src_name(avail_fits, src_idx[0])\n",
    "    lc_df = obtain_lc_df(lc_folder_name, src_name, src_details, src_idx[0], fits_labels)\n",
    "    balanced_lc_df = obtain_balanced_lc_df(lc_df)\n",
    "    \n",
    "    for idx in src_idx[1:]:\n",
    "        src_name, src_details = obtain_src_name(avail_fits, idx)\n",
    "        lc_df = obtain_lc_df(lc_folder_name, src_name, src_details, idx, fits_labels)\n",
    "        # concatenate the new balanced dataframes onto the main one. \n",
    "        new_balanced_lc_df = obtain_balanced_lc_df(lc_df)\n",
    "        balanced_lc_df = pd.concat([balanced_lc_df, new_balanced_lc_df], ignore_index=True, axis = 0)\n",
    "    \n",
    "    return balanced_lc_df"
   ]
  },
  {
   "cell_type": "code",
   "execution_count": 27,
   "id": "a2b9a644-0936-4067-bbec-a668477c53e1",
   "metadata": {},
   "outputs": [],
   "source": [
    "fp_balanced_lc_df = stack_balanced_df(avail_fits, reduced_fp_src_idx)"
   ]
  },
  {
   "cell_type": "code",
   "execution_count": 28,
   "id": "ef3e6153-3163-4f2b-adb0-1b9169be57a8",
   "metadata": {},
   "outputs": [
    {
     "data": {
      "text/plain": [
       "Above_Threshold\n",
       "2    1615\n",
       "0     801\n",
       "Name: count, dtype: int64"
      ]
     },
     "execution_count": 28,
     "metadata": {},
     "output_type": "execute_result"
    }
   ],
   "source": [
    "fp_balanced_lc_df[\"Above_Threshold\"].value_counts()"
   ]
  },
  {
   "cell_type": "code",
   "execution_count": 29,
   "id": "c603990e-dc4a-4cf0-835b-cd63cdeacad6",
   "metadata": {},
   "outputs": [],
   "source": [
    "tp_balanced_lc_df = stack_balanced_df(avail_fits, tp_src_idx)"
   ]
  },
  {
   "cell_type": "code",
   "execution_count": 30,
   "id": "e7014100-d5f4-4057-a0f6-9adc663e449b",
   "metadata": {},
   "outputs": [
    {
     "data": {
      "text/plain": [
       "Above_Threshold\n",
       "1    1611\n",
       "0     793\n",
       "Name: count, dtype: int64"
      ]
     },
     "execution_count": 30,
     "metadata": {},
     "output_type": "execute_result"
    }
   ],
   "source": [
    "tp_balanced_lc_df[\"Above_Threshold\"].value_counts()"
   ]
  },
  {
   "cell_type": "code",
   "execution_count": 31,
   "id": "5b09f5aa-4de9-4d01-98ba-9579dfba331c",
   "metadata": {},
   "outputs": [],
   "source": [
    "final_balanced_df = pd.concat([fp_balanced_lc_df, tp_balanced_lc_df], ignore_index=True, axis = 0)"
   ]
  },
  {
   "cell_type": "code",
   "execution_count": 32,
   "id": "a5574a8d-9fa2-49a8-a96c-5d9a790a0aa9",
   "metadata": {},
   "outputs": [
    {
     "data": {
      "text/plain": [
       "Above_Threshold\n",
       "2    1615\n",
       "1    1611\n",
       "0    1594\n",
       "Name: count, dtype: int64"
      ]
     },
     "execution_count": 32,
     "metadata": {},
     "output_type": "execute_result"
    }
   ],
   "source": [
    "final_balanced_df[\"Above_Threshold\"].value_counts()"
   ]
  },
  {
   "cell_type": "markdown",
   "id": "7aced257-36c3-4c8d-946d-28b60c94bc66",
   "metadata": {},
   "source": [
    "## Splitting The Data into Training, Validation and Testing Sets"
   ]
  },
  {
   "cell_type": "markdown",
   "id": "1eb69d80-79c2-4dd7-af21-6173092ee95f",
   "metadata": {},
   "source": [
    "We need to ensure that there is no source leakage between the training, validation and test sets. This means we cannot have image slices corresponding to a source in the traning set also be found in the test set. Data leakage may allow the model to see testing data before it is meant to. The model may be able to predict test data more accurately however it may not perform well on unseen data."
   ]
  },
  {
   "cell_type": "code",
   "execution_count": 33,
   "id": "fae76675-deae-4d90-b771-f933c90686b0",
   "metadata": {},
   "outputs": [],
   "source": [
    "def split_train_test_data(final_balanced_df, prop, det_src_type = 0, thresh = 5):\n",
    "    \"\"\"\n",
    "    Splits the data into training and testing data. The incoming data\n",
    "    has only true positives and non detections or only false positives\n",
    "    and non detections.\n",
    "\n",
    "    Parameters\n",
    "    ----------\n",
    "    final_balanced_df : pandas dataframe\n",
    "        A light curve dataframe with a balanced number of\n",
    "        positives and non detections.\n",
    "\n",
    "    prop : float\n",
    "        The proportion of the data to go into the training\n",
    "        data.\n",
    "\n",
    "    det_src_type : 0, default 0\n",
    "        If det_src_type is 0 then the detected sources are true positives,\n",
    "        if det_src_type is 1 then the detected sources are false positives\n",
    "\n",
    "    thresh : int, default 5\n",
    "        Will exit the while loop when the number of positives\n",
    "        in the training data is just within the calculated number of proportion of positives\n",
    "        in the training data plus this threshold value\n",
    "        \n",
    "    Returns\n",
    "    -------\n",
    "    train_df : pandas dataframe\n",
    "        The light curve dataframe to be used for training\n",
    "\n",
    "    test_df : pandas dataframe\n",
    "        The light curve dataframe to be used for testing\n",
    "    \"\"\"\n",
    "    \n",
    "    # det_src_type = 0, then the detected sources are true positives, and if they are 1 then the detected sources are false positives\n",
    "    train_count = round(prop * sum(final_balanced_df[\"Above_Threshold\"]==det_src_type+1))\n",
    "    sources = list(final_balanced_df[final_balanced_df[\"Above_Threshold\"]==det_src_type+1][\"Source_Info\"].unique())\n",
    "    act_train_count = 0\n",
    "    chsen_srcs = []\n",
    "    while act_train_count < train_count:\n",
    "        # Randomly choose sources and then remove the source from the array to ensure no duplicates.\n",
    "        sel_src = np.random.choice(sources)\n",
    "        new_count = sum(final_balanced_df[final_balanced_df[\"Source_Info\"] == sel_src][\"Above_Threshold\"] != 0) # Only consider the count of true/ false positives\n",
    "        if act_train_count + new_count > train_count + thresh:\n",
    "            continue\n",
    "        else:\n",
    "            act_train_count += new_count\n",
    "            chsen_srcs.append(sel_src)\n",
    "            sources.remove(sel_src)\n",
    "\n",
    "    non_chsen_srcs = list(set(sources)-set(chsen_srcs))\n",
    "    train_df = final_balanced_df[final_balanced_df[\"Source_Info\"].isin(chsen_srcs)]\n",
    "\n",
    "    # Put rest of data with \"Above_Threshold\" value == det_src_type+1 into test df.\n",
    "    test_df = final_balanced_df[final_balanced_df[\"Source_Info\"].isin(non_chsen_srcs)]\n",
    "\n",
    "    return train_df, test_df"
   ]
  },
  {
   "cell_type": "code",
   "execution_count": 34,
   "id": "c14d0618-74d4-45bb-bc56-2007bfedde52",
   "metadata": {},
   "outputs": [],
   "source": [
    "prop = 0.7"
   ]
  },
  {
   "cell_type": "code",
   "execution_count": 35,
   "id": "e42f98f8-ddfc-4e56-9c60-14a5a33e9429",
   "metadata": {},
   "outputs": [],
   "source": [
    "fp_train_df, fp_test_df = split_train_test_data(final_balanced_df, prop, det_src_type = 1)"
   ]
  },
  {
   "cell_type": "code",
   "execution_count": 36,
   "id": "3e29cf45-316e-49f7-b8f3-5978b87de257",
   "metadata": {},
   "outputs": [],
   "source": [
    "fp_train_df, fp_val_df = split_train_test_data(fp_train_df, prop, det_src_type = 1)"
   ]
  },
  {
   "cell_type": "code",
   "execution_count": 37,
   "id": "8ff466b1-6565-4029-a1d8-ae4f58851248",
   "metadata": {},
   "outputs": [],
   "source": [
    "tp_train_df, tp_test_df = split_train_test_data(final_balanced_df, prop, det_src_type = 0)"
   ]
  },
  {
   "cell_type": "code",
   "execution_count": 38,
   "id": "4d98a596-0398-4e06-b073-2702480254dc",
   "metadata": {},
   "outputs": [],
   "source": [
    "tp_train_df, tp_val_df = split_train_test_data(tp_train_df, prop, det_src_type = 0)"
   ]
  },
  {
   "cell_type": "markdown",
   "id": "0f4ae751-b544-4a55-a01b-0b5640b2b494",
   "metadata": {},
   "source": [
    "#### Train Data"
   ]
  },
  {
   "cell_type": "code",
   "execution_count": 39,
   "id": "fad859c4-9588-448e-898b-02551c774cf4",
   "metadata": {},
   "outputs": [],
   "source": [
    "# Set random state for reproducibility\n",
    "random_state = 43\n",
    "train_df = pd.concat([tp_train_df, fp_train_df], ignore_index=True, axis = 0)\n",
    "# randomise the rows\n",
    "train_df = train_df.sample(frac=1, random_state = random_state, axis=0)\n",
    "train_df = train_df.reset_index(drop=True)"
   ]
  },
  {
   "cell_type": "code",
   "execution_count": 40,
   "id": "51a44d3b-9934-4e2f-8c84-fd13e2757303",
   "metadata": {},
   "outputs": [
    {
     "data": {
      "text/html": [
       "<div>\n",
       "<style scoped>\n",
       "    .dataframe tbody tr th:only-of-type {\n",
       "        vertical-align: middle;\n",
       "    }\n",
       "\n",
       "    .dataframe tbody tr th {\n",
       "        vertical-align: top;\n",
       "    }\n",
       "\n",
       "    .dataframe thead th {\n",
       "        text-align: right;\n",
       "    }\n",
       "</style>\n",
       "<table border=\"1\" class=\"dataframe\">\n",
       "  <thead>\n",
       "    <tr style=\"text-align: right;\">\n",
       "      <th></th>\n",
       "      <th>Time</th>\n",
       "      <th>peak_flux</th>\n",
       "      <th>local_rms</th>\n",
       "      <th>Time_Idx</th>\n",
       "      <th>Above_Threshold</th>\n",
       "      <th>Source_Info</th>\n",
       "    </tr>\n",
       "  </thead>\n",
       "  <tbody>\n",
       "    <tr>\n",
       "      <th>0</th>\n",
       "      <td>2024-05-03T21:40:34.526590</td>\n",
       "      <td>0.081691</td>\n",
       "      <td>0.001843</td>\n",
       "      <td>50</td>\n",
       "      <td>2</td>\n",
       "      <td>SB62032_beam07_J185511.33-041707.13</td>\n",
       "    </tr>\n",
       "    <tr>\n",
       "      <th>1</th>\n",
       "      <td>2024-05-03T21:41:04.386430</td>\n",
       "      <td>0.080683</td>\n",
       "      <td>0.001889</td>\n",
       "      <td>53</td>\n",
       "      <td>2</td>\n",
       "      <td>SB62032_beam07_J185511.33-041707.13</td>\n",
       "    </tr>\n",
       "    <tr>\n",
       "      <th>2</th>\n",
       "      <td>2024-05-03T19:30:18.326397</td>\n",
       "      <td>0.329826</td>\n",
       "      <td>0.002436</td>\n",
       "      <td>68</td>\n",
       "      <td>2</td>\n",
       "      <td>SB62025_beam23_J165613.62-492319.87</td>\n",
       "    </tr>\n",
       "    <tr>\n",
       "      <th>3</th>\n",
       "      <td>2024-06-09T10:43:32.017534</td>\n",
       "      <td>0.037564</td>\n",
       "      <td>0.001621</td>\n",
       "      <td>30</td>\n",
       "      <td>0</td>\n",
       "      <td>SB62746_beam03_J105625.57-625846.70</td>\n",
       "    </tr>\n",
       "    <tr>\n",
       "      <th>4</th>\n",
       "      <td>2024-05-03T21:02:35.004286</td>\n",
       "      <td>0.065916</td>\n",
       "      <td>0.002149</td>\n",
       "      <td>65</td>\n",
       "      <td>2</td>\n",
       "      <td>SB62030_beam14_J181810.28-071327.53</td>\n",
       "    </tr>\n",
       "  </tbody>\n",
       "</table>\n",
       "</div>"
      ],
      "text/plain": [
       "                         Time  peak_flux  local_rms  Time_Idx  \\\n",
       "0  2024-05-03T21:40:34.526590   0.081691   0.001843        50   \n",
       "1  2024-05-03T21:41:04.386430   0.080683   0.001889        53   \n",
       "2  2024-05-03T19:30:18.326397   0.329826   0.002436        68   \n",
       "3  2024-06-09T10:43:32.017534   0.037564   0.001621        30   \n",
       "4  2024-05-03T21:02:35.004286   0.065916   0.002149        65   \n",
       "\n",
       "   Above_Threshold                          Source_Info  \n",
       "0                2  SB62032_beam07_J185511.33-041707.13  \n",
       "1                2  SB62032_beam07_J185511.33-041707.13  \n",
       "2                2  SB62025_beam23_J165613.62-492319.87  \n",
       "3                0  SB62746_beam03_J105625.57-625846.70  \n",
       "4                2  SB62030_beam14_J181810.28-071327.53  "
      ]
     },
     "execution_count": 40,
     "metadata": {},
     "output_type": "execute_result"
    }
   ],
   "source": [
    "train_df.head()"
   ]
  },
  {
   "cell_type": "code",
   "execution_count": 41,
   "id": "bf03ec17-6415-446d-bba2-7adf62412cd3",
   "metadata": {},
   "outputs": [
    {
     "data": {
      "text/plain": [
       "(2367, 6)"
      ]
     },
     "execution_count": 41,
     "metadata": {},
     "output_type": "execute_result"
    }
   ],
   "source": [
    "train_df.shape"
   ]
  },
  {
   "cell_type": "markdown",
   "id": "29b93ae7-ae09-423a-bc04-c9002dd8d848",
   "metadata": {},
   "source": [
    "#### Validation Data"
   ]
  },
  {
   "cell_type": "code",
   "execution_count": 42,
   "id": "60d8ed4d-8a5b-4ede-b441-83f944981bea",
   "metadata": {},
   "outputs": [],
   "source": [
    "val_df = pd.concat([tp_val_df, fp_val_df], ignore_index=True, axis = 0)\n",
    "# randomise the rows\n",
    "val_df = val_df.sample(frac=1, random_state = random_state, axis=0)\n",
    "val_df = val_df.reset_index(drop=True)"
   ]
  },
  {
   "cell_type": "code",
   "execution_count": 43,
   "id": "e089f780-fa4d-4fba-876a-5f268090e92a",
   "metadata": {},
   "outputs": [
    {
     "data": {
      "text/html": [
       "<div>\n",
       "<style scoped>\n",
       "    .dataframe tbody tr th:only-of-type {\n",
       "        vertical-align: middle;\n",
       "    }\n",
       "\n",
       "    .dataframe tbody tr th {\n",
       "        vertical-align: top;\n",
       "    }\n",
       "\n",
       "    .dataframe thead th {\n",
       "        text-align: right;\n",
       "    }\n",
       "</style>\n",
       "<table border=\"1\" class=\"dataframe\">\n",
       "  <thead>\n",
       "    <tr style=\"text-align: right;\">\n",
       "      <th></th>\n",
       "      <th>Time</th>\n",
       "      <th>peak_flux</th>\n",
       "      <th>local_rms</th>\n",
       "      <th>Time_Idx</th>\n",
       "      <th>Above_Threshold</th>\n",
       "      <th>Source_Info</th>\n",
       "    </tr>\n",
       "  </thead>\n",
       "  <tbody>\n",
       "    <tr>\n",
       "      <th>0</th>\n",
       "      <td>2024-04-22T19:21:18.305662</td>\n",
       "      <td>0.276695</td>\n",
       "      <td>0.002559</td>\n",
       "      <td>54</td>\n",
       "      <td>2</td>\n",
       "      <td>SB61530_beam33_J181939.05-123739.35</td>\n",
       "    </tr>\n",
       "    <tr>\n",
       "      <th>1</th>\n",
       "      <td>2024-05-03T19:29:48.466558</td>\n",
       "      <td>0.051281</td>\n",
       "      <td>0.001778</td>\n",
       "      <td>65</td>\n",
       "      <td>2</td>\n",
       "      <td>SB62025_beam25_J165101.16-504725.07</td>\n",
       "    </tr>\n",
       "    <tr>\n",
       "      <th>2</th>\n",
       "      <td>2024-05-05T19:54:06.843261</td>\n",
       "      <td>0.016199</td>\n",
       "      <td>0.002508</td>\n",
       "      <td>13</td>\n",
       "      <td>1</td>\n",
       "      <td>SB62166_beam15_J174556.28-304022.46</td>\n",
       "    </tr>\n",
       "    <tr>\n",
       "      <th>3</th>\n",
       "      <td>2024-04-22T19:19:18.866301</td>\n",
       "      <td>0.027164</td>\n",
       "      <td>0.001432</td>\n",
       "      <td>42</td>\n",
       "      <td>0</td>\n",
       "      <td>SB61530_beam11_J183048.18-144550.44</td>\n",
       "    </tr>\n",
       "    <tr>\n",
       "      <th>4</th>\n",
       "      <td>2024-05-03T21:32:36.769151</td>\n",
       "      <td>0.002580</td>\n",
       "      <td>0.001603</td>\n",
       "      <td>2</td>\n",
       "      <td>2</td>\n",
       "      <td>SB62032_beam11_J185001.82-075832.36</td>\n",
       "    </tr>\n",
       "  </tbody>\n",
       "</table>\n",
       "</div>"
      ],
      "text/plain": [
       "                         Time  peak_flux  local_rms  Time_Idx  \\\n",
       "0  2024-04-22T19:21:18.305662   0.276695   0.002559        54   \n",
       "1  2024-05-03T19:29:48.466558   0.051281   0.001778        65   \n",
       "2  2024-05-05T19:54:06.843261   0.016199   0.002508        13   \n",
       "3  2024-04-22T19:19:18.866301   0.027164   0.001432        42   \n",
       "4  2024-05-03T21:32:36.769151   0.002580   0.001603         2   \n",
       "\n",
       "   Above_Threshold                          Source_Info  \n",
       "0                2  SB61530_beam33_J181939.05-123739.35  \n",
       "1                2  SB62025_beam25_J165101.16-504725.07  \n",
       "2                1  SB62166_beam15_J174556.28-304022.46  \n",
       "3                0  SB61530_beam11_J183048.18-144550.44  \n",
       "4                2  SB62032_beam11_J185001.82-075832.36  "
      ]
     },
     "execution_count": 43,
     "metadata": {},
     "output_type": "execute_result"
    }
   ],
   "source": [
    "val_df.head()"
   ]
  },
  {
   "cell_type": "code",
   "execution_count": 44,
   "id": "193b9243-405d-4543-ad88-2044fb65dfce",
   "metadata": {},
   "outputs": [
    {
     "data": {
      "text/plain": [
       "(1008, 6)"
      ]
     },
     "execution_count": 44,
     "metadata": {},
     "output_type": "execute_result"
    }
   ],
   "source": [
    "val_df.shape"
   ]
  },
  {
   "cell_type": "markdown",
   "id": "6de75309-fe77-4c9e-8a76-0144f75a7a7c",
   "metadata": {},
   "source": [
    "#### Test Data"
   ]
  },
  {
   "cell_type": "code",
   "execution_count": 45,
   "id": "91b1f2b9-2555-4bf1-ab39-8eabdb4c90b7",
   "metadata": {},
   "outputs": [],
   "source": [
    "test_df = pd.concat([tp_test_df, fp_test_df], ignore_index=True, axis = 0)\n",
    "# randomise the rows\n",
    "test_df = test_df.sample(frac=1, random_state = random_state, axis=0)\n",
    "test_df = test_df.reset_index(drop=True)"
   ]
  },
  {
   "cell_type": "code",
   "execution_count": 46,
   "id": "6bffda8e-b982-4a7f-b64f-34e7afe1fb23",
   "metadata": {},
   "outputs": [
    {
     "data": {
      "text/html": [
       "<div>\n",
       "<style scoped>\n",
       "    .dataframe tbody tr th:only-of-type {\n",
       "        vertical-align: middle;\n",
       "    }\n",
       "\n",
       "    .dataframe tbody tr th {\n",
       "        vertical-align: top;\n",
       "    }\n",
       "\n",
       "    .dataframe thead th {\n",
       "        text-align: right;\n",
       "    }\n",
       "</style>\n",
       "<table border=\"1\" class=\"dataframe\">\n",
       "  <thead>\n",
       "    <tr style=\"text-align: right;\">\n",
       "      <th></th>\n",
       "      <th>Time</th>\n",
       "      <th>peak_flux</th>\n",
       "      <th>local_rms</th>\n",
       "      <th>Time_Idx</th>\n",
       "      <th>Above_Threshold</th>\n",
       "      <th>Source_Info</th>\n",
       "    </tr>\n",
       "  </thead>\n",
       "  <tbody>\n",
       "    <tr>\n",
       "      <th>0</th>\n",
       "      <td>2024-06-13T16:05:18.726526</td>\n",
       "      <td>0.138080</td>\n",
       "      <td>0.003206</td>\n",
       "      <td>49</td>\n",
       "      <td>0</td>\n",
       "      <td>SB62845_beam19_J175258.66-280637.15</td>\n",
       "    </tr>\n",
       "    <tr>\n",
       "      <th>1</th>\n",
       "      <td>2024-05-22T17:50:27.115390</td>\n",
       "      <td>0.602433</td>\n",
       "      <td>0.002355</td>\n",
       "      <td>43</td>\n",
       "      <td>0</td>\n",
       "      <td>SB62513_beam11_J164449.31-455910.49</td>\n",
       "    </tr>\n",
       "    <tr>\n",
       "      <th>2</th>\n",
       "      <td>2024-06-30T13:58:00.137085</td>\n",
       "      <td>0.624046</td>\n",
       "      <td>0.003635</td>\n",
       "      <td>61</td>\n",
       "      <td>0</td>\n",
       "      <td>SB63407_beam29_J164449.14-455910.15</td>\n",
       "    </tr>\n",
       "    <tr>\n",
       "      <th>3</th>\n",
       "      <td>2024-04-19T21:20:39.911806</td>\n",
       "      <td>0.014255</td>\n",
       "      <td>0.002760</td>\n",
       "      <td>28</td>\n",
       "      <td>0</td>\n",
       "      <td>SB61310_beam04_J184117.86-050021.59</td>\n",
       "    </tr>\n",
       "    <tr>\n",
       "      <th>4</th>\n",
       "      <td>2024-05-03T21:34:06.348671</td>\n",
       "      <td>0.020834</td>\n",
       "      <td>0.002659</td>\n",
       "      <td>11</td>\n",
       "      <td>2</td>\n",
       "      <td>SB62032_beam32_J184017.73-071537.18</td>\n",
       "    </tr>\n",
       "  </tbody>\n",
       "</table>\n",
       "</div>"
      ],
      "text/plain": [
       "                         Time  peak_flux  local_rms  Time_Idx  \\\n",
       "0  2024-06-13T16:05:18.726526   0.138080   0.003206        49   \n",
       "1  2024-05-22T17:50:27.115390   0.602433   0.002355        43   \n",
       "2  2024-06-30T13:58:00.137085   0.624046   0.003635        61   \n",
       "3  2024-04-19T21:20:39.911806   0.014255   0.002760        28   \n",
       "4  2024-05-03T21:34:06.348671   0.020834   0.002659        11   \n",
       "\n",
       "   Above_Threshold                          Source_Info  \n",
       "0                0  SB62845_beam19_J175258.66-280637.15  \n",
       "1                0  SB62513_beam11_J164449.31-455910.49  \n",
       "2                0  SB63407_beam29_J164449.14-455910.15  \n",
       "3                0  SB61310_beam04_J184117.86-050021.59  \n",
       "4                2  SB62032_beam32_J184017.73-071537.18  "
      ]
     },
     "execution_count": 46,
     "metadata": {},
     "output_type": "execute_result"
    }
   ],
   "source": [
    "test_df.head()"
   ]
  },
  {
   "cell_type": "code",
   "execution_count": 47,
   "id": "0f92b99a-c293-498f-8cd3-d8b6934aa259",
   "metadata": {},
   "outputs": [
    {
     "data": {
      "text/plain": [
       "(1445, 6)"
      ]
     },
     "execution_count": 47,
     "metadata": {},
     "output_type": "execute_result"
    }
   ],
   "source": [
    "test_df.shape"
   ]
  },
  {
   "cell_type": "markdown",
   "id": "320ccf01-8f5b-49d2-a77d-deb2a510ec12",
   "metadata": {},
   "source": [
    "#### Test For Source Overlap"
   ]
  },
  {
   "cell_type": "code",
   "execution_count": 48,
   "id": "af24d86f-39d8-4902-8970-031ecec8c157",
   "metadata": {},
   "outputs": [
    {
     "data": {
      "text/plain": [
       "set()"
      ]
     },
     "execution_count": 48,
     "metadata": {},
     "output_type": "execute_result"
    }
   ],
   "source": [
    "set(train_df[\"Source_Info\"]).intersection(set(test_df[\"Source_Info\"]))"
   ]
  },
  {
   "cell_type": "code",
   "execution_count": 49,
   "id": "4b787c61-c1b5-44b5-a333-a6cc60c06aed",
   "metadata": {},
   "outputs": [
    {
     "data": {
      "text/plain": [
       "set()"
      ]
     },
     "execution_count": 49,
     "metadata": {},
     "output_type": "execute_result"
    }
   ],
   "source": [
    "set(train_df[\"Source_Info\"]).intersection(set(val_df[\"Source_Info\"]))"
   ]
  },
  {
   "cell_type": "code",
   "execution_count": 50,
   "id": "ca55cf5c-34ea-47ff-9eb0-7fdb2a65da31",
   "metadata": {},
   "outputs": [
    {
     "data": {
      "text/plain": [
       "set()"
      ]
     },
     "execution_count": 50,
     "metadata": {},
     "output_type": "execute_result"
    }
   ],
   "source": [
    "set(test_df[\"Source_Info\"]).intersection(set(val_df[\"Source_Info\"]))"
   ]
  },
  {
   "cell_type": "markdown",
   "id": "8a7a8349-326d-4ddb-ab1b-0eaaaa1c4146",
   "metadata": {},
   "source": [
    "#### Obtain The Relevant Fits Files for Each Source and Preprocess The Images"
   ]
  },
  {
   "cell_type": "code",
   "execution_count": 51,
   "id": "0e7c1268-9b81-4bbf-b1a7-a180707b8a03",
   "metadata": {},
   "outputs": [],
   "source": [
    "def get_img_slices_and_labels(df, fits_fol = \"VAST 10s fitscube\"):\n",
    "    \"\"\"\n",
    "    Obtain the images and labels that the classifier\n",
    "    will be trained on.\n",
    "\n",
    "    Parameters\n",
    "    ----------\n",
    "    df : pandas dataframe\n",
    "        Light curve dataframe\n",
    "\n",
    "    fits_fol : str, default \"VAST 10s fitscube\"\n",
    "        Path to the fits cube folder\n",
    "\n",
    "    Returns\n",
    "    -------\n",
    "    img_labels : pandas series\n",
    "        Labels for the images\n",
    "\n",
    "    img_slice : numpy array\n",
    "        The images to classify\n",
    "    \"\"\"\n",
    "    \n",
    "    # Get the relevant image slices and their associated labels for a particular dataframe - test, train or val.\n",
    "    img_labels = df[\"Above_Threshold\"]\n",
    "    img_slice = np.array([])\n",
    "    for i, row in df.iterrows():\n",
    "        src_info = row.loc[\"Source_Info\"].split(\"_\")\n",
    "        src_info.insert(2, \"slices\")\n",
    "        fits_filename = f'{fits_fol}/{\"_\".join(src_info)}.fits'\n",
    "        hdu = fits.open(fits_filename)\n",
    "        data = hdu[0].data\n",
    "    \n",
    "        # Separate images into classes based on img_labels\n",
    "        if img_slice.size == 0: # If initial list is empty\n",
    "            img_slice = data[row.loc[\"Time_Idx\"]]\n",
    "            \n",
    "            # Triplicate to obtain RGB from binary.\n",
    "            img_slice = np.repeat(img_slice[...,np.newaxis], 3, -1)\n",
    "\n",
    "            # Initialise first image of the image slice array and add a new dimension to the start so the array is 4D\n",
    "            img_slice = img_slice[np.newaxis,:,:]\n",
    "        else:\n",
    "            new_img_slice = data[row.loc[\"Time_Idx\"]]\n",
    "\n",
    "            # Triplicate to obtain RGB from binary.\n",
    "            new_img_slice = np.repeat(new_img_slice[...,np.newaxis], 3, -1)\n",
    "            new_img_slice = new_img_slice[np.newaxis,:,:]\n",
    "\n",
    "            # Add new image onto img slice array.\n",
    "            img_slice = np.concatenate([img_slice, new_img_slice], axis=0)\n",
    "\n",
    "    return img_labels, img_slice"
   ]
  },
  {
   "cell_type": "code",
   "execution_count": 52,
   "id": "5bfd2fc9-9ece-4500-9237-f74866fa9e44",
   "metadata": {},
   "outputs": [],
   "source": [
    "def normalise_img(img):\n",
    "    \"\"\"\n",
    "    Applies min-max normalisation on an image.\n",
    "\n",
    "    Parameters\n",
    "    ----------\n",
    "    img : numpy array\n",
    "        An image array of integers or floats\n",
    "\n",
    "    Returns\n",
    "    -------\n",
    "    img : numpy array\n",
    "        A min-max normalised image\n",
    "    \"\"\"\n",
    "    \n",
    "    # Normalise the input image via min max normalisation\n",
    "    img = (img - img.min()) / (img.max() - img.min())\n",
    "    return img"
   ]
  },
  {
   "cell_type": "code",
   "execution_count": 53,
   "id": "3b6313d5-520d-4ad5-b55e-0d7a877086aa",
   "metadata": {},
   "outputs": [],
   "source": [
    "def resize_img_slice(img_slice, new_size = (224,224)):\n",
    "    \"\"\"\n",
    "    Resize images\n",
    "\n",
    "    Parameters\n",
    "    ----------\n",
    "    img_slice : numpy array\n",
    "        The images to be resized\n",
    "\n",
    "    new_size : tuple, default (224, 224)\n",
    "        The size the images will be resized to\n",
    "\n",
    "    Returns\n",
    "    -------\n",
    "    resized_img_slice : numpy array\n",
    "        The resized images\n",
    "    \"\"\"\n",
    "    \n",
    "    # Resize the image appropriately for the CNN\n",
    "    resized_img_slice = np.zeros([img_slice.shape[0],new_size[0],new_size[1],3])\n",
    "    for s in range(img_slice.shape[0]):\n",
    "        resized_img = cv2.resize(img_slice[s], dsize=new_size, interpolation=cv2.INTER_CUBIC)\n",
    "        resized_img = normalise_img(resized_img)\n",
    "        resized_img_slice[s] = resized_img\n",
    "    return resized_img_slice"
   ]
  },
  {
   "cell_type": "markdown",
   "id": "4337fa70-853c-4972-aa9c-08a80a597fed",
   "metadata": {},
   "source": [
    "#### Get Test Image Slices and Labels"
   ]
  },
  {
   "cell_type": "code",
   "execution_count": 54,
   "id": "5f60df05-8877-4ab6-870b-2bfd3cd760c7",
   "metadata": {
    "scrolled": true
   },
   "outputs": [],
   "source": [
    "test_img_labels, test_img_slice = get_img_slices_and_labels(test_df)"
   ]
  },
  {
   "cell_type": "code",
   "execution_count": 55,
   "id": "ea4aa5fc-8bb4-401c-9a8c-856472970197",
   "metadata": {},
   "outputs": [
    {
     "data": {
      "text/plain": [
       "(1445, 120, 120, 3)"
      ]
     },
     "execution_count": 55,
     "metadata": {},
     "output_type": "execute_result"
    }
   ],
   "source": [
    "test_img_slice.shape"
   ]
  },
  {
   "cell_type": "code",
   "execution_count": 56,
   "id": "99aeb7c5-d206-4c6c-8e08-b02ac36b0e97",
   "metadata": {},
   "outputs": [],
   "source": [
    "desired_size = (120, 120)"
   ]
  },
  {
   "cell_type": "code",
   "execution_count": 57,
   "id": "0d1ec24a-6473-464e-bcad-b0437edd5f17",
   "metadata": {},
   "outputs": [],
   "source": [
    "resized_test_img_slice = resize_img_slice(test_img_slice, new_size = desired_size)"
   ]
  },
  {
   "cell_type": "markdown",
   "id": "33074095-bd94-47a3-9b22-f0f9377d8852",
   "metadata": {},
   "source": [
    "Check if the resized images match the original images or normalised images."
   ]
  },
  {
   "cell_type": "code",
   "execution_count": 58,
   "id": "9b6dde88-d7dc-4df2-848f-ed2a349a74da",
   "metadata": {},
   "outputs": [
    {
     "data": {
      "image/png": "[encoded data removed]",
      "text/plain": [
       "<Figure size 640x480 with 1 Axes>"
      ]
     },
     "metadata": {},
     "output_type": "display_data"
    }
   ],
   "source": [
    "plt.imshow(resized_test_img_slice[0])\n",
    "plt.show()"
   ]
  },
  {
   "cell_type": "code",
   "execution_count": 59,
   "id": "dc34dd86-fc30-490a-bcda-b58d4e6a011c",
   "metadata": {},
   "outputs": [
    {
     "data": {
      "image/png": "[encoded data removed]",
      "text/plain": [
       "<Figure size 640x480 with 1 Axes>"
      ]
     },
     "metadata": {},
     "output_type": "display_data"
    }
   ],
   "source": [
    "plt.imshow(normalise_img(test_img_slice[0]))\n",
    "plt.show()"
   ]
  },
  {
   "cell_type": "code",
   "execution_count": 60,
   "id": "8bf04c0a-ea89-417d-b6ce-799b4eacf5be",
   "metadata": {},
   "outputs": [
    {
     "data": {
      "text/plain": [
       "array([0, 0, 0])"
      ]
     },
     "execution_count": 60,
     "metadata": {},
     "output_type": "execute_result"
    }
   ],
   "source": [
    "# Check for nan values in the test data.\n",
    "sum(sum(sum(np.isnan(test_img_slice))))"
   ]
  },
  {
   "cell_type": "code",
   "execution_count": 61,
   "id": "66d47e11-bff0-4d5e-8658-3797af3a2bf2",
   "metadata": {},
   "outputs": [
    {
     "data": {
      "text/plain": [
       "Above_Threshold\n",
       "2    484\n",
       "1    482\n",
       "0    479\n",
       "Name: count, dtype: int64"
      ]
     },
     "execution_count": 61,
     "metadata": {},
     "output_type": "execute_result"
    }
   ],
   "source": [
    "# Check the value counts in the test image labels.\n",
    "test_img_labels.value_counts()"
   ]
  },
  {
   "cell_type": "markdown",
   "id": "a0902406-1c74-4706-8e5b-998bde82f095",
   "metadata": {},
   "source": [
    "#### Get Training Image Slices and Labels"
   ]
  },
  {
   "cell_type": "code",
   "execution_count": 62,
   "id": "b93f1290-8ee2-429c-8d49-e5cbfa814e38",
   "metadata": {},
   "outputs": [],
   "source": [
    "train_img_labels, train_img_slice = get_img_slices_and_labels(train_df)"
   ]
  },
  {
   "cell_type": "code",
   "execution_count": 63,
   "id": "e105524c-5340-4420-a178-8407ec2155ca",
   "metadata": {},
   "outputs": [],
   "source": [
    "resized_train_img_slice = resize_img_slice(train_img_slice, new_size = desired_size)"
   ]
  },
  {
   "cell_type": "markdown",
   "id": "d2dba61a-8ce2-46de-a504-3e27ad6d581b",
   "metadata": {},
   "source": [
    "Check if the resized images match the original images or normalised images."
   ]
  },
  {
   "cell_type": "code",
   "execution_count": 64,
   "id": "1a5dca02-f5fd-48dc-b5cc-e66ecac3d3cb",
   "metadata": {},
   "outputs": [
    {
     "data": {
      "image/png": "[encoded data removed]",
      "text/plain": [
       "<Figure size 640x480 with 1 Axes>"
      ]
     },
     "metadata": {},
     "output_type": "display_data"
    }
   ],
   "source": [
    "plt.imshow(resized_train_img_slice[0])\n",
    "plt.show()"
   ]
  },
  {
   "cell_type": "code",
   "execution_count": 65,
   "id": "8b18b39e-6a66-43d1-8364-d83387380f75",
   "metadata": {},
   "outputs": [
    {
     "data": {
      "image/png": "[encoded data removed]",
      "text/plain": [
       "<Figure size 640x480 with 1 Axes>"
      ]
     },
     "metadata": {},
     "output_type": "display_data"
    }
   ],
   "source": [
    "plt.imshow(normalise_img(train_img_slice[0]))\n",
    "plt.show()"
   ]
  },
  {
   "cell_type": "code",
   "execution_count": 66,
   "id": "c80a0e55-3f7b-423a-a860-92ea8c571214",
   "metadata": {},
   "outputs": [
    {
     "data": {
      "text/plain": [
       "(2367, 120, 120, 3)"
      ]
     },
     "execution_count": 66,
     "metadata": {},
     "output_type": "execute_result"
    }
   ],
   "source": [
    "train_img_slice.shape"
   ]
  },
  {
   "cell_type": "code",
   "execution_count": 67,
   "id": "c3f2753b-12ee-4673-bf24-b669143ee443",
   "metadata": {},
   "outputs": [
    {
     "data": {
      "text/plain": [
       "Above_Threshold\n",
       "2    794\n",
       "1    794\n",
       "0    779\n",
       "Name: count, dtype: int64"
      ]
     },
     "execution_count": 67,
     "metadata": {},
     "output_type": "execute_result"
    }
   ],
   "source": [
    "train_img_labels.value_counts()"
   ]
  },
  {
   "cell_type": "markdown",
   "id": "947bc2ce-31ab-470c-ab79-9e98f1d23559",
   "metadata": {},
   "source": [
    "#### Get Validation Image Slices and Labels"
   ]
  },
  {
   "cell_type": "code",
   "execution_count": 68,
   "id": "d28487a3-5728-4775-be27-2e764b9dcd21",
   "metadata": {},
   "outputs": [],
   "source": [
    "val_img_labels, val_img_slice = get_img_slices_and_labels(val_df)"
   ]
  },
  {
   "cell_type": "code",
   "execution_count": 69,
   "id": "a152acdd-1da0-4bad-89cf-1e1890610201",
   "metadata": {},
   "outputs": [],
   "source": [
    "resized_val_img_slice = resize_img_slice(val_img_slice, new_size = desired_size)"
   ]
  },
  {
   "cell_type": "markdown",
   "id": "be28ec59-af1e-4c7e-894d-205d69962ee2",
   "metadata": {},
   "source": [
    "Check if the resized images match the original images or normalised images."
   ]
  },
  {
   "cell_type": "code",
   "execution_count": 70,
   "id": "707c3eab-2444-481c-b3d3-8b9dfab3597b",
   "metadata": {},
   "outputs": [
    {
     "data": {
      "image/png": "[encoded data removed]",
      "text/plain": [
       "<Figure size 640x480 with 1 Axes>"
      ]
     },
     "metadata": {},
     "output_type": "display_data"
    }
   ],
   "source": [
    "plt.imshow(resized_val_img_slice[0])\n",
    "plt.show()"
   ]
  },
  {
   "cell_type": "code",
   "execution_count": 71,
   "id": "35c15916-108b-47a3-bd66-ce197efed0b4",
   "metadata": {},
   "outputs": [
    {
     "data": {
      "image/png": "[encoded data removed]",
      "text/plain": [
       "<Figure size 640x480 with 1 Axes>"
      ]
     },
     "metadata": {},
     "output_type": "display_data"
    }
   ],
   "source": [
    "plt.imshow(normalise_img(val_img_slice[0]))\n",
    "plt.show()"
   ]
  },
  {
   "cell_type": "code",
   "execution_count": 72,
   "id": "75835a5d-e6ad-4654-90ff-c5ddc8c27b3f",
   "metadata": {},
   "outputs": [
    {
     "data": {
      "text/plain": [
       "(1008, 120, 120, 3)"
      ]
     },
     "execution_count": 72,
     "metadata": {},
     "output_type": "execute_result"
    }
   ],
   "source": [
    "val_img_slice.shape"
   ]
  },
  {
   "cell_type": "code",
   "execution_count": 73,
   "id": "f74ffc98-b84a-47bf-b74e-be0a3c4300f7",
   "metadata": {},
   "outputs": [
    {
     "data": {
      "text/plain": [
       "Above_Threshold\n",
       "2    337\n",
       "0    336\n",
       "1    335\n",
       "Name: count, dtype: int64"
      ]
     },
     "execution_count": 73,
     "metadata": {},
     "output_type": "execute_result"
    }
   ],
   "source": [
    "val_img_labels.value_counts()"
   ]
  },
  {
   "cell_type": "markdown",
   "id": "24d463b5-8770-4a1c-98a9-7b3bbfd40354",
   "metadata": {},
   "source": [
    "#### Save The Image Slices and Their Labels"
   ]
  },
  {
   "cell_type": "code",
   "execution_count": 74,
   "id": "d91d1df2-f142-43aa-847e-80208cc07d95",
   "metadata": {},
   "outputs": [],
   "source": [
    "def save_img_slice(img_slice_data, img_labels_data, data_class, data_fol = \"CNN_Data\"):\n",
    "    \"\"\"\n",
    "    Save the images.\n",
    "\n",
    "    Parameters\n",
    "    ----------\n",
    "    img_slice_data : numpy array\n",
    "        The images\n",
    "\n",
    "    img_labels : pandas series\n",
    "        The labels for the images\n",
    "\n",
    "    data_class : str\n",
    "        Whether the image belongs to \"Train\", \"Validation\" or \"Test\" folders\n",
    "\n",
    "    data_fol : str, default \"CNN_Data\"\n",
    "        The folder the images will be saved in\n",
    "    \"\"\"\n",
    "    \n",
    "    f_path = f\"{data_fol}/{data_class}/{data_class}\"\n",
    "    np.save(f_path+\"_Imgs\", img_slice_data)\n",
    "    np.save(f_path+\"_Labels\", img_labels_data)"
   ]
  },
  {
   "cell_type": "code",
   "execution_count": 75,
   "id": "b2f59aa8-e7ad-411f-b603-7ddcdee98f54",
   "metadata": {},
   "outputs": [],
   "source": [
    "save_img_slice(resized_test_img_slice, test_img_labels, \"Test\", data_fol = \"CNN_Data\")\n",
    "save_img_slice(resized_train_img_slice, train_img_labels, \"Train\", data_fol = \"CNN_Data\")\n",
    "save_img_slice(resized_val_img_slice, val_img_labels, \"Validation\", data_fol = \"CNN_Data\")"
   ]
  }
 ],
 "metadata": {
  "kernelspec": {
   "display_name": "Python 3 (ipykernel)",
   "language": "python",
   "name": "python3"
  },
  "language_info": {
   "codemirror_mode": {
    "name": "ipython",
    "version": 3
   },
   "file_extension": ".py",
   "mimetype": "text/x-python",
   "name": "python",
   "nbconvert_exporter": "python",
   "pygments_lexer": "ipython3",
   "version": "3.10.16"
  }
 },
 "nbformat": 4,
 "nbformat_minor": 5
}
